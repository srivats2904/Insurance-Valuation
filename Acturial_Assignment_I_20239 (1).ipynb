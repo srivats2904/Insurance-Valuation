{
  "nbformat": 4,
  "nbformat_minor": 0,
  "metadata": {
    "colab": {
      "name": "Acturial_Assignment-I-20239.ipynb",
      "provenance": [],
      "collapsed_sections": []
    },
    "kernelspec": {
      "name": "python3",
      "display_name": "Python 3"
    },
    "language_info": {
      "name": "python"
    }
  },
  "cells": [
    {
      "cell_type": "markdown",
      "metadata": {
        "id": "BWz8ix-EYFTr"
      },
      "source": [
        "READ BEFORE EXECUTION: At the first execution, please un-comment the first cell by removing the # symbol and then execute it totally. This is to install the chainladder module. Before further executions, please comment the first cell by adding the # symbol before the ! symbol"
      ]
    },
    {
      "cell_type": "code",
      "metadata": {
        "id": "XHG1VxGEtR1M"
      },
      "source": [
        "#!pip install chainladder"
      ],
      "execution_count": null,
      "outputs": []
    },
    {
      "cell_type": "code",
      "metadata": {
        "id": "1_5U2CbRtd2f",
        "colab": {
          "base_uri": "https://localhost:8080/"
        },
        "outputId": "e4d6f1bc-c748-466c-eda4-03303a2d85ce"
      },
      "source": [
        "import pandas as pd\n",
        "import numpy as np\n",
        "import chainladder as cl\n",
        "import os\n",
        "import statsmodels.api as sm\n",
        "import matplotlib.pyplot as plt"
      ],
      "execution_count": null,
      "outputs": [
        {
          "output_type": "stream",
          "name": "stderr",
          "text": [
            "/usr/local/lib/python3.7/dist-packages/statsmodels/tools/_testing.py:19: FutureWarning: pandas.util.testing is deprecated. Use the functions in the public API at pandas.testing instead.\n",
            "  import pandas.util.testing as tm\n"
          ]
        }
      ]
    },
    {
      "cell_type": "code",
      "metadata": {
        "id": "mMu7JAPGtmHe"
      },
      "source": [
        "%matplotlib inline"
      ],
      "execution_count": null,
      "outputs": []
    },
    {
      "cell_type": "markdown",
      "metadata": {
        "id": "q2m770Ult-1l"
      },
      "source": [
        "# **Development Triangle**"
      ]
    },
    {
      "cell_type": "code",
      "metadata": {
        "colab": {
          "base_uri": "https://localhost:8080/",
          "height": 269
        },
        "id": "JiYCOoeitrRZ",
        "outputId": "e06bf538-83d3-4794-e856-5a9636143e00"
      },
      "source": [
        "#Loading the raa sample \n",
        "dev_triangle=cl.load_sample('ukmotor')\n",
        "dev_triangle"
      ],
      "execution_count": null,
      "outputs": [
        {
          "output_type": "execute_result",
          "data": {
            "text/plain": [
              "          12      24       36       48       60       72       84\n",
              "2007  3511.0  6726.0   8992.0  10704.0  11763.0  12350.0  12690.0\n",
              "2008  4001.0  7703.0   9981.0  11161.0  12117.0  12746.0      NaN\n",
              "2009  4355.0  8287.0  10233.0  11755.0  12993.0      NaN      NaN\n",
              "2010  4295.0  7750.0   9773.0  11093.0      NaN      NaN      NaN\n",
              "2011  4150.0  7897.0  10217.0      NaN      NaN      NaN      NaN\n",
              "2012  5102.0  9650.0      NaN      NaN      NaN      NaN      NaN\n",
              "2013  6283.0     NaN      NaN      NaN      NaN      NaN      NaN"
            ],
            "text/html": [
              "<table border=\"1\" class=\"dataframe\">\n",
              "  <thead>\n",
              "    <tr style=\"text-align: right;\">\n",
              "      <th></th>\n",
              "      <th>12</th>\n",
              "      <th>24</th>\n",
              "      <th>36</th>\n",
              "      <th>48</th>\n",
              "      <th>60</th>\n",
              "      <th>72</th>\n",
              "      <th>84</th>\n",
              "    </tr>\n",
              "  </thead>\n",
              "  <tbody>\n",
              "    <tr>\n",
              "      <th>2007</th>\n",
              "      <td>3,511</td>\n",
              "      <td>6,726</td>\n",
              "      <td>8,992</td>\n",
              "      <td>10,704</td>\n",
              "      <td>11,763</td>\n",
              "      <td>12,350</td>\n",
              "      <td>12,690</td>\n",
              "    </tr>\n",
              "    <tr>\n",
              "      <th>2008</th>\n",
              "      <td>4,001</td>\n",
              "      <td>7,703</td>\n",
              "      <td>9,981</td>\n",
              "      <td>11,161</td>\n",
              "      <td>12,117</td>\n",
              "      <td>12,746</td>\n",
              "      <td></td>\n",
              "    </tr>\n",
              "    <tr>\n",
              "      <th>2009</th>\n",
              "      <td>4,355</td>\n",
              "      <td>8,287</td>\n",
              "      <td>10,233</td>\n",
              "      <td>11,755</td>\n",
              "      <td>12,993</td>\n",
              "      <td></td>\n",
              "      <td></td>\n",
              "    </tr>\n",
              "    <tr>\n",
              "      <th>2010</th>\n",
              "      <td>4,295</td>\n",
              "      <td>7,750</td>\n",
              "      <td>9,773</td>\n",
              "      <td>11,093</td>\n",
              "      <td></td>\n",
              "      <td></td>\n",
              "      <td></td>\n",
              "    </tr>\n",
              "    <tr>\n",
              "      <th>2011</th>\n",
              "      <td>4,150</td>\n",
              "      <td>7,897</td>\n",
              "      <td>10,217</td>\n",
              "      <td></td>\n",
              "      <td></td>\n",
              "      <td></td>\n",
              "      <td></td>\n",
              "    </tr>\n",
              "    <tr>\n",
              "      <th>2012</th>\n",
              "      <td>5,102</td>\n",
              "      <td>9,650</td>\n",
              "      <td></td>\n",
              "      <td></td>\n",
              "      <td></td>\n",
              "      <td></td>\n",
              "      <td></td>\n",
              "    </tr>\n",
              "    <tr>\n",
              "      <th>2013</th>\n",
              "      <td>6,283</td>\n",
              "      <td></td>\n",
              "      <td></td>\n",
              "      <td></td>\n",
              "      <td></td>\n",
              "      <td></td>\n",
              "      <td></td>\n",
              "    </tr>\n",
              "  </tbody>\n",
              "</table>"
            ]
          },
          "metadata": {},
          "execution_count": 7
        }
      ]
    },
    {
      "cell_type": "code",
      "metadata": {
        "colab": {
          "base_uri": "https://localhost:8080/",
          "height": 238
        },
        "id": "5s8Zs5SouPTn",
        "outputId": "bbbaae40-25d8-4f61-86b6-bc5be9d4ff06"
      },
      "source": [
        "#Using the link_ratio as loss development factor\n",
        "dev_triangle.link_ratio"
      ],
      "execution_count": null,
      "outputs": [
        {
          "output_type": "execute_result",
          "data": {
            "text/plain": [
              "         12-24     24-36     36-48     48-60     60-72    72-84\n",
              "2007  1.915694  1.336902  1.190391  1.098935  1.049902  1.02753\n",
              "2008  1.925269  1.295729  1.118225  1.085655  1.051911      NaN\n",
              "2009  1.902870  1.234826  1.148734  1.105317       NaN      NaN\n",
              "2010  1.804424  1.261032  1.135066       NaN       NaN      NaN\n",
              "2011  1.902892  1.293782       NaN       NaN       NaN      NaN\n",
              "2012  1.891415       NaN       NaN       NaN       NaN      NaN"
            ],
            "text/html": [
              "<table border=\"1\" class=\"dataframe\">\n",
              "  <thead>\n",
              "    <tr style=\"text-align: right;\">\n",
              "      <th></th>\n",
              "      <th>12-24</th>\n",
              "      <th>24-36</th>\n",
              "      <th>36-48</th>\n",
              "      <th>48-60</th>\n",
              "      <th>60-72</th>\n",
              "      <th>72-84</th>\n",
              "    </tr>\n",
              "  </thead>\n",
              "  <tbody>\n",
              "    <tr>\n",
              "      <th>2007</th>\n",
              "      <td>1.9157</td>\n",
              "      <td>1.3369</td>\n",
              "      <td>1.1904</td>\n",
              "      <td>1.0989</td>\n",
              "      <td>1.0499</td>\n",
              "      <td>1.0275</td>\n",
              "    </tr>\n",
              "    <tr>\n",
              "      <th>2008</th>\n",
              "      <td>1.9253</td>\n",
              "      <td>1.2957</td>\n",
              "      <td>1.1182</td>\n",
              "      <td>1.0857</td>\n",
              "      <td>1.0519</td>\n",
              "      <td></td>\n",
              "    </tr>\n",
              "    <tr>\n",
              "      <th>2009</th>\n",
              "      <td>1.9029</td>\n",
              "      <td>1.2348</td>\n",
              "      <td>1.1487</td>\n",
              "      <td>1.1053</td>\n",
              "      <td></td>\n",
              "      <td></td>\n",
              "    </tr>\n",
              "    <tr>\n",
              "      <th>2010</th>\n",
              "      <td>1.8044</td>\n",
              "      <td>1.2610</td>\n",
              "      <td>1.1351</td>\n",
              "      <td></td>\n",
              "      <td></td>\n",
              "      <td></td>\n",
              "    </tr>\n",
              "    <tr>\n",
              "      <th>2011</th>\n",
              "      <td>1.9029</td>\n",
              "      <td>1.2938</td>\n",
              "      <td></td>\n",
              "      <td></td>\n",
              "      <td></td>\n",
              "      <td></td>\n",
              "    </tr>\n",
              "    <tr>\n",
              "      <th>2012</th>\n",
              "      <td>1.8914</td>\n",
              "      <td></td>\n",
              "      <td></td>\n",
              "      <td></td>\n",
              "      <td></td>\n",
              "      <td></td>\n",
              "    </tr>\n",
              "  </tbody>\n",
              "</table>"
            ]
          },
          "metadata": {},
          "execution_count": 8
        }
      ]
    },
    {
      "cell_type": "code",
      "metadata": {
        "colab": {
          "base_uri": "https://localhost:8080/",
          "height": 269
        },
        "id": "7l5zVAUBuS0M",
        "outputId": "b2186e0e-2789-4664-aba3-84e26fae6226"
      },
      "source": [
        "#latest_paid is taken as latest_diagnol so \n",
        "latest_paid = dev_triangle.latest_diagonal\n",
        "latest_paid"
      ],
      "execution_count": null,
      "outputs": [
        {
          "output_type": "execute_result",
          "data": {
            "text/plain": [
              "         2013\n",
              "2007  12690.0\n",
              "2008  12746.0\n",
              "2009  12993.0\n",
              "2010  11093.0\n",
              "2011  10217.0\n",
              "2012   9650.0\n",
              "2013   6283.0"
            ],
            "text/html": [
              "<table border=\"1\" class=\"dataframe\">\n",
              "  <thead>\n",
              "    <tr style=\"text-align: right;\">\n",
              "      <th></th>\n",
              "      <th>2013</th>\n",
              "    </tr>\n",
              "  </thead>\n",
              "  <tbody>\n",
              "    <tr>\n",
              "      <th>2007</th>\n",
              "      <td>12,690</td>\n",
              "    </tr>\n",
              "    <tr>\n",
              "      <th>2008</th>\n",
              "      <td>12,746</td>\n",
              "    </tr>\n",
              "    <tr>\n",
              "      <th>2009</th>\n",
              "      <td>12,993</td>\n",
              "    </tr>\n",
              "    <tr>\n",
              "      <th>2010</th>\n",
              "      <td>11,093</td>\n",
              "    </tr>\n",
              "    <tr>\n",
              "      <th>2011</th>\n",
              "      <td>10,217</td>\n",
              "    </tr>\n",
              "    <tr>\n",
              "      <th>2012</th>\n",
              "      <td>9,650</td>\n",
              "    </tr>\n",
              "    <tr>\n",
              "      <th>2013</th>\n",
              "      <td>6,283</td>\n",
              "    </tr>\n",
              "  </tbody>\n",
              "</table>"
            ]
          },
          "metadata": {},
          "execution_count": 9
        }
      ]
    },
    {
      "cell_type": "code",
      "metadata": {
        "colab": {
          "base_uri": "https://localhost:8080/"
        },
        "id": "f-hm1n1FuW5l",
        "outputId": "8254b9df-939e-43de-942f-8820ea10ce0c"
      },
      "source": [
        "print(\"Is the triangle cummulative?:\",dev_triangle.is_cumulative)\n",
        "print(\"Does the triangle contain ultimate projections?:\",dev_triangle.is_ultimate)\n",
        "print(\"Is this a valuation triangle?:\",dev_triangle.is_val_tri)\n",
        "print(\"Has the triangle been squared?:\",dev_triangle.is_full)"
      ],
      "execution_count": null,
      "outputs": [
        {
          "output_type": "stream",
          "name": "stdout",
          "text": [
            "Is the triangle cummulative?: True\n",
            "Does the triangle contain ultimate projections?: False\n",
            "Is this a valuation triangle?: False\n",
            "Has the triangle been squared?: False\n"
          ]
        }
      ]
    },
    {
      "cell_type": "code",
      "metadata": {
        "colab": {
          "base_uri": "https://localhost:8080/",
          "height": 269
        },
        "id": "sySCe4UOyPJu",
        "outputId": "5feff2ca-692d-4b84-ceeb-c0a0bf7b2f7d"
      },
      "source": [
        "#Using inc_to_cum and cum_to_incr to change the view of development triangle from incremental to development to viceversa \n",
        "dev_triangle_inc = dev_triangle.cum_to_incr()\n",
        "dev_triangle_inc"
      ],
      "execution_count": null,
      "outputs": [
        {
          "output_type": "execute_result",
          "data": {
            "text/plain": [
              "          12      24      36      48      60     72     84\n",
              "2007  3511.0  3215.0  2266.0  1712.0  1059.0  587.0  340.0\n",
              "2008  4001.0  3702.0  2278.0  1180.0   956.0  629.0    NaN\n",
              "2009  4355.0  3932.0  1946.0  1522.0  1238.0    NaN    NaN\n",
              "2010  4295.0  3455.0  2023.0  1320.0     NaN    NaN    NaN\n",
              "2011  4150.0  3747.0  2320.0     NaN     NaN    NaN    NaN\n",
              "2012  5102.0  4548.0     NaN     NaN     NaN    NaN    NaN\n",
              "2013  6283.0     NaN     NaN     NaN     NaN    NaN    NaN"
            ],
            "text/html": [
              "<table border=\"1\" class=\"dataframe\">\n",
              "  <thead>\n",
              "    <tr style=\"text-align: right;\">\n",
              "      <th></th>\n",
              "      <th>12</th>\n",
              "      <th>24</th>\n",
              "      <th>36</th>\n",
              "      <th>48</th>\n",
              "      <th>60</th>\n",
              "      <th>72</th>\n",
              "      <th>84</th>\n",
              "    </tr>\n",
              "  </thead>\n",
              "  <tbody>\n",
              "    <tr>\n",
              "      <th>2007</th>\n",
              "      <td>3,511</td>\n",
              "      <td>3,215</td>\n",
              "      <td>2,266</td>\n",
              "      <td>1,712</td>\n",
              "      <td>1,059</td>\n",
              "      <td>587</td>\n",
              "      <td>340</td>\n",
              "    </tr>\n",
              "    <tr>\n",
              "      <th>2008</th>\n",
              "      <td>4,001</td>\n",
              "      <td>3,702</td>\n",
              "      <td>2,278</td>\n",
              "      <td>1,180</td>\n",
              "      <td>956</td>\n",
              "      <td>629</td>\n",
              "      <td></td>\n",
              "    </tr>\n",
              "    <tr>\n",
              "      <th>2009</th>\n",
              "      <td>4,355</td>\n",
              "      <td>3,932</td>\n",
              "      <td>1,946</td>\n",
              "      <td>1,522</td>\n",
              "      <td>1,238</td>\n",
              "      <td></td>\n",
              "      <td></td>\n",
              "    </tr>\n",
              "    <tr>\n",
              "      <th>2010</th>\n",
              "      <td>4,295</td>\n",
              "      <td>3,455</td>\n",
              "      <td>2,023</td>\n",
              "      <td>1,320</td>\n",
              "      <td></td>\n",
              "      <td></td>\n",
              "      <td></td>\n",
              "    </tr>\n",
              "    <tr>\n",
              "      <th>2011</th>\n",
              "      <td>4,150</td>\n",
              "      <td>3,747</td>\n",
              "      <td>2,320</td>\n",
              "      <td></td>\n",
              "      <td></td>\n",
              "      <td></td>\n",
              "      <td></td>\n",
              "    </tr>\n",
              "    <tr>\n",
              "      <th>2012</th>\n",
              "      <td>5,102</td>\n",
              "      <td>4,548</td>\n",
              "      <td></td>\n",
              "      <td></td>\n",
              "      <td></td>\n",
              "      <td></td>\n",
              "      <td></td>\n",
              "    </tr>\n",
              "    <tr>\n",
              "      <th>2013</th>\n",
              "      <td>6,283</td>\n",
              "      <td></td>\n",
              "      <td></td>\n",
              "      <td></td>\n",
              "      <td></td>\n",
              "      <td></td>\n",
              "      <td></td>\n",
              "    </tr>\n",
              "  </tbody>\n",
              "</table>"
            ]
          },
          "metadata": {},
          "execution_count": 11
        }
      ]
    },
    {
      "cell_type": "code",
      "metadata": {
        "colab": {
          "base_uri": "https://localhost:8080/",
          "height": 269
        },
        "id": "XWMiY3N4ySq5",
        "outputId": "ad143b35-f7a5-4298-ed2e-e6f974ad1bd2"
      },
      "source": [
        "#If the triangle is already cumulative then the output we will try to change it will not change\n",
        "dev_triangle_cum = dev_triangle.incr_to_cum()\n",
        "dev_triangle_cum "
      ],
      "execution_count": null,
      "outputs": [
        {
          "output_type": "execute_result",
          "data": {
            "text/plain": [
              "          12      24       36       48       60       72       84\n",
              "2007  3511.0  6726.0   8992.0  10704.0  11763.0  12350.0  12690.0\n",
              "2008  4001.0  7703.0   9981.0  11161.0  12117.0  12746.0      NaN\n",
              "2009  4355.0  8287.0  10233.0  11755.0  12993.0      NaN      NaN\n",
              "2010  4295.0  7750.0   9773.0  11093.0      NaN      NaN      NaN\n",
              "2011  4150.0  7897.0  10217.0      NaN      NaN      NaN      NaN\n",
              "2012  5102.0  9650.0      NaN      NaN      NaN      NaN      NaN\n",
              "2013  6283.0     NaN      NaN      NaN      NaN      NaN      NaN"
            ],
            "text/html": [
              "<table border=\"1\" class=\"dataframe\">\n",
              "  <thead>\n",
              "    <tr style=\"text-align: right;\">\n",
              "      <th></th>\n",
              "      <th>12</th>\n",
              "      <th>24</th>\n",
              "      <th>36</th>\n",
              "      <th>48</th>\n",
              "      <th>60</th>\n",
              "      <th>72</th>\n",
              "      <th>84</th>\n",
              "    </tr>\n",
              "  </thead>\n",
              "  <tbody>\n",
              "    <tr>\n",
              "      <th>2007</th>\n",
              "      <td>3,511</td>\n",
              "      <td>6,726</td>\n",
              "      <td>8,992</td>\n",
              "      <td>10,704</td>\n",
              "      <td>11,763</td>\n",
              "      <td>12,350</td>\n",
              "      <td>12,690</td>\n",
              "    </tr>\n",
              "    <tr>\n",
              "      <th>2008</th>\n",
              "      <td>4,001</td>\n",
              "      <td>7,703</td>\n",
              "      <td>9,981</td>\n",
              "      <td>11,161</td>\n",
              "      <td>12,117</td>\n",
              "      <td>12,746</td>\n",
              "      <td></td>\n",
              "    </tr>\n",
              "    <tr>\n",
              "      <th>2009</th>\n",
              "      <td>4,355</td>\n",
              "      <td>8,287</td>\n",
              "      <td>10,233</td>\n",
              "      <td>11,755</td>\n",
              "      <td>12,993</td>\n",
              "      <td></td>\n",
              "      <td></td>\n",
              "    </tr>\n",
              "    <tr>\n",
              "      <th>2010</th>\n",
              "      <td>4,295</td>\n",
              "      <td>7,750</td>\n",
              "      <td>9,773</td>\n",
              "      <td>11,093</td>\n",
              "      <td></td>\n",
              "      <td></td>\n",
              "      <td></td>\n",
              "    </tr>\n",
              "    <tr>\n",
              "      <th>2011</th>\n",
              "      <td>4,150</td>\n",
              "      <td>7,897</td>\n",
              "      <td>10,217</td>\n",
              "      <td></td>\n",
              "      <td></td>\n",
              "      <td></td>\n",
              "      <td></td>\n",
              "    </tr>\n",
              "    <tr>\n",
              "      <th>2012</th>\n",
              "      <td>5,102</td>\n",
              "      <td>9,650</td>\n",
              "      <td></td>\n",
              "      <td></td>\n",
              "      <td></td>\n",
              "      <td></td>\n",
              "      <td></td>\n",
              "    </tr>\n",
              "    <tr>\n",
              "      <th>2013</th>\n",
              "      <td>6,283</td>\n",
              "      <td></td>\n",
              "      <td></td>\n",
              "      <td></td>\n",
              "      <td></td>\n",
              "      <td></td>\n",
              "      <td></td>\n",
              "    </tr>\n",
              "  </tbody>\n",
              "</table>"
            ]
          },
          "metadata": {},
          "execution_count": 12
        }
      ]
    },
    {
      "cell_type": "code",
      "metadata": {
        "colab": {
          "base_uri": "https://localhost:8080/",
          "height": 295
        },
        "id": "C8CTV6hhyXVY",
        "outputId": "265e091f-4246-43ea-ed38-97b602a1aa01"
      },
      "source": [
        "#This plot explains the changes in the cummulative paid loss with respect to the development period. \n",
        "dev_triangle.T.plot(\n",
        "    marker='.', grid=True,\n",
        "    title='plot of cumulative claims payment').set(\n",
        "    xlabel='Development Period', ylabel='Cumulative Paid Loss');"
      ],
      "execution_count": null,
      "outputs": [
        {
          "output_type": "display_data",
          "data": {
            "text/plain": [
              "<Figure size 432x288 with 1 Axes>"
            ],
            "image/png": "[encoded data removed]"
          },
          "metadata": {
            "needs_background": "light"
          }
        }
      ]
    },
    {
      "cell_type": "code",
      "metadata": {
        "colab": {
          "base_uri": "https://localhost:8080/",
          "height": 295
        },
        "id": "cldQ8fvQybPZ",
        "outputId": "1974c7b6-3809-4806-cfd1-4e52cd656de2"
      },
      "source": [
        "#This plot explains the changes in the incremental paid loss with respect to the development period. \n",
        "dev_triangle_inc.T.plot(\n",
        "    marker='.', grid=True,\n",
        "    title='plot of incremental claims payment').set(\n",
        "    xlabel='Development Period', ylabel='Incremental Paid Loss');"
      ],
      "execution_count": null,
      "outputs": [
        {
          "output_type": "display_data",
          "data": {
            "text/plain": [
              "<Figure size 432x288 with 1 Axes>"
            ],
            "image/png": "[encoded data removed]"
          },
          "metadata": {
            "needs_background": "light"
          }
        }
      ]
    },
    {
      "cell_type": "markdown",
      "metadata": {
        "id": "E_3fBRAryhBF"
      },
      "source": [
        "# **Deterministic Methods**"
      ]
    },
    {
      "cell_type": "markdown",
      "metadata": {
        "id": "YMOZyL1Fyq7b"
      },
      "source": [
        "## **Chain Ladder Method**"
      ]
    },
    {
      "cell_type": "code",
      "metadata": {
        "colab": {
          "base_uri": "https://localhost:8080/"
        },
        "id": "r2cUj13NyeVg",
        "outputId": "49dae239-95c0-4349-aeaf-786f3d9e10aa"
      },
      "source": [
        "#Checking whether the development triangle is cummmulative or not\n",
        "dev_triangle.is_cumulative"
      ],
      "execution_count": null,
      "outputs": [
        {
          "output_type": "execute_result",
          "data": {
            "text/plain": [
              "True"
            ]
          },
          "metadata": {},
          "execution_count": 15
        }
      ]
    },
    {
      "cell_type": "code",
      "metadata": {
        "colab": {
          "base_uri": "https://localhost:8080/"
        },
        "id": "p8iW5lWTzEZi",
        "outputId": "f2302c37-8b23-455a-c7d5-2568b1fe3fdb"
      },
      "source": [
        "#Fitting the development triangle into the chain ladder fit method\n",
        "modeltriangle = cl.Chainladder().fit(dev_triangle)\n",
        "modeltriangle"
      ],
      "execution_count": null,
      "outputs": [
        {
          "output_type": "execute_result",
          "data": {
            "text/plain": [
              "Chainladder()"
            ]
          },
          "metadata": {},
          "execution_count": 16
        }
      ]
    },
    {
      "cell_type": "code",
      "metadata": {
        "colab": {
          "base_uri": "https://localhost:8080/",
          "height": 269
        },
        "id": "XcJP3ZVjzHO7",
        "outputId": "d0876fa7-8618-45f0-c61f-35773a7bf2c6"
      },
      "source": [
        "#Obtaining the IBNR(Incurred But Not Reported) Values \n",
        "ibnr_values = (modeltriangle.full_triangle_.cum_to_incr()- dev_triangle.cum_to_incr())\n",
        "ibnr_values"
      ],
      "execution_count": null,
      "outputs": [
        {
          "output_type": "execute_result",
          "data": {
            "text/plain": [
              "      12           24           36           48           60          72          84    96    9999\n",
              "2007   NaN          NaN          NaN          NaN          NaN         NaN         NaN   NaN   NaN\n",
              "2008   NaN          NaN          NaN          NaN          NaN         NaN  350.902024   NaN   NaN\n",
              "2009   NaN          NaN          NaN          NaN          NaN  661.620101  375.916667   NaN   NaN\n",
              "2010   NaN          NaN          NaN          NaN  1073.335187  619.525276  351.999397   NaN   NaN\n",
              "2011   NaN          NaN          NaN  1502.970266  1133.999503  654.540504  371.894210   NaN   NaN\n",
              "2012   NaN          NaN  2724.981102  1820.419755  1373.516924  792.789113  450.443753   NaN   NaN\n",
              "2013   NaN  5587.058983  3351.884601  2239.221748  1689.505379  975.176532  554.071908   NaN   NaN"
            ],
            "text/html": [
              "<table border=\"1\" class=\"dataframe\">\n",
              "  <thead>\n",
              "    <tr style=\"text-align: right;\">\n",
              "      <th></th>\n",
              "      <th>12</th>\n",
              "      <th>24</th>\n",
              "      <th>36</th>\n",
              "      <th>48</th>\n",
              "      <th>60</th>\n",
              "      <th>72</th>\n",
              "      <th>84</th>\n",
              "      <th>96</th>\n",
              "      <th>9999</th>\n",
              "    </tr>\n",
              "  </thead>\n",
              "  <tbody>\n",
              "    <tr>\n",
              "      <th>2007</th>\n",
              "      <td></td>\n",
              "      <td></td>\n",
              "      <td></td>\n",
              "      <td></td>\n",
              "      <td></td>\n",
              "      <td></td>\n",
              "      <td></td>\n",
              "      <td></td>\n",
              "      <td></td>\n",
              "    </tr>\n",
              "    <tr>\n",
              "      <th>2008</th>\n",
              "      <td></td>\n",
              "      <td></td>\n",
              "      <td></td>\n",
              "      <td></td>\n",
              "      <td></td>\n",
              "      <td></td>\n",
              "      <td>351</td>\n",
              "      <td></td>\n",
              "      <td></td>\n",
              "    </tr>\n",
              "    <tr>\n",
              "      <th>2009</th>\n",
              "      <td></td>\n",
              "      <td></td>\n",
              "      <td></td>\n",
              "      <td></td>\n",
              "      <td></td>\n",
              "      <td>662</td>\n",
              "      <td>376</td>\n",
              "      <td></td>\n",
              "      <td></td>\n",
              "    </tr>\n",
              "    <tr>\n",
              "      <th>2010</th>\n",
              "      <td></td>\n",
              "      <td></td>\n",
              "      <td></td>\n",
              "      <td></td>\n",
              "      <td>1,073</td>\n",
              "      <td>620</td>\n",
              "      <td>352</td>\n",
              "      <td></td>\n",
              "      <td></td>\n",
              "    </tr>\n",
              "    <tr>\n",
              "      <th>2011</th>\n",
              "      <td></td>\n",
              "      <td></td>\n",
              "      <td></td>\n",
              "      <td>1,503</td>\n",
              "      <td>1,134</td>\n",
              "      <td>655</td>\n",
              "      <td>372</td>\n",
              "      <td></td>\n",
              "      <td></td>\n",
              "    </tr>\n",
              "    <tr>\n",
              "      <th>2012</th>\n",
              "      <td></td>\n",
              "      <td></td>\n",
              "      <td>2,725</td>\n",
              "      <td>1,820</td>\n",
              "      <td>1,374</td>\n",
              "      <td>793</td>\n",
              "      <td>450</td>\n",
              "      <td></td>\n",
              "      <td></td>\n",
              "    </tr>\n",
              "    <tr>\n",
              "      <th>2013</th>\n",
              "      <td></td>\n",
              "      <td>5,587</td>\n",
              "      <td>3,352</td>\n",
              "      <td>2,239</td>\n",
              "      <td>1,690</td>\n",
              "      <td>975</td>\n",
              "      <td>554</td>\n",
              "      <td></td>\n",
              "      <td></td>\n",
              "    </tr>\n",
              "  </tbody>\n",
              "</table>"
            ]
          },
          "metadata": {},
          "execution_count": 17
        }
      ]
    },
    {
      "cell_type": "code",
      "metadata": {
        "colab": {
          "base_uri": "https://localhost:8080/",
          "height": 269
        },
        "id": "oz2dLPeQzKjQ",
        "outputId": "4562f745-b82a-4e95-a206-14f59eb9b701"
      },
      "source": [
        "#cumulative estimated full triangle\n",
        "full_triangle = modeltriangle.full_triangle_\n",
        "full_triangle"
      ],
      "execution_count": null,
      "outputs": [
        {
          "output_type": "execute_result",
          "data": {
            "text/plain": [
              "        12            24            36            48            60            72            84            96            9999\n",
              "2007  3511.0   6726.000000   8992.000000  10704.000000  11763.000000  12350.000000  12690.000000  12690.000000  12690.000000\n",
              "2008  4001.0   7703.000000   9981.000000  11161.000000  12117.000000  12746.000000  13096.902024  13096.902024  13096.902024\n",
              "2009  4355.0   8287.000000  10233.000000  11755.000000  12993.000000  13654.620101  14030.536767  14030.536767  14030.536767\n",
              "2010  4295.0   7750.000000   9773.000000  11093.000000  12166.335187  12785.860463  13137.859861  13137.859861  13137.859861\n",
              "2011  4150.0   7897.000000  10217.000000  11719.970266  12853.969769  13508.510273  13880.404483  13880.404483  13880.404483\n",
              "2012  5102.0   9650.000000  12374.981102  14195.400857  15568.917781  16361.706894  16812.150646  16812.150646  16812.150646\n",
              "2013  6283.0  11870.058983  15221.943585  17461.165333  19150.670711  20125.847243  20679.919151  20679.919151  20679.919151"
            ],
            "text/html": [
              "<table border=\"1\" class=\"dataframe\">\n",
              "  <thead>\n",
              "    <tr style=\"text-align: right;\">\n",
              "      <th></th>\n",
              "      <th>12</th>\n",
              "      <th>24</th>\n",
              "      <th>36</th>\n",
              "      <th>48</th>\n",
              "      <th>60</th>\n",
              "      <th>72</th>\n",
              "      <th>84</th>\n",
              "      <th>96</th>\n",
              "      <th>9999</th>\n",
              "    </tr>\n",
              "  </thead>\n",
              "  <tbody>\n",
              "    <tr>\n",
              "      <th>2007</th>\n",
              "      <td>3,511</td>\n",
              "      <td>6,726</td>\n",
              "      <td>8,992</td>\n",
              "      <td>10,704</td>\n",
              "      <td>11,763</td>\n",
              "      <td>12,350</td>\n",
              "      <td>12,690</td>\n",
              "      <td>12,690</td>\n",
              "      <td>12,690</td>\n",
              "    </tr>\n",
              "    <tr>\n",
              "      <th>2008</th>\n",
              "      <td>4,001</td>\n",
              "      <td>7,703</td>\n",
              "      <td>9,981</td>\n",
              "      <td>11,161</td>\n",
              "      <td>12,117</td>\n",
              "      <td>12,746</td>\n",
              "      <td>13,097</td>\n",
              "      <td>13,097</td>\n",
              "      <td>13,097</td>\n",
              "    </tr>\n",
              "    <tr>\n",
              "      <th>2009</th>\n",
              "      <td>4,355</td>\n",
              "      <td>8,287</td>\n",
              "      <td>10,233</td>\n",
              "      <td>11,755</td>\n",
              "      <td>12,993</td>\n",
              "      <td>13,655</td>\n",
              "      <td>14,031</td>\n",
              "      <td>14,031</td>\n",
              "      <td>14,031</td>\n",
              "    </tr>\n",
              "    <tr>\n",
              "      <th>2010</th>\n",
              "      <td>4,295</td>\n",
              "      <td>7,750</td>\n",
              "      <td>9,773</td>\n",
              "      <td>11,093</td>\n",
              "      <td>12,166</td>\n",
              "      <td>12,786</td>\n",
              "      <td>13,138</td>\n",
              "      <td>13,138</td>\n",
              "      <td>13,138</td>\n",
              "    </tr>\n",
              "    <tr>\n",
              "      <th>2011</th>\n",
              "      <td>4,150</td>\n",
              "      <td>7,897</td>\n",
              "      <td>10,217</td>\n",
              "      <td>11,720</td>\n",
              "      <td>12,854</td>\n",
              "      <td>13,509</td>\n",
              "      <td>13,880</td>\n",
              "      <td>13,880</td>\n",
              "      <td>13,880</td>\n",
              "    </tr>\n",
              "    <tr>\n",
              "      <th>2012</th>\n",
              "      <td>5,102</td>\n",
              "      <td>9,650</td>\n",
              "      <td>12,375</td>\n",
              "      <td>14,195</td>\n",
              "      <td>15,569</td>\n",
              "      <td>16,362</td>\n",
              "      <td>16,812</td>\n",
              "      <td>16,812</td>\n",
              "      <td>16,812</td>\n",
              "    </tr>\n",
              "    <tr>\n",
              "      <th>2013</th>\n",
              "      <td>6,283</td>\n",
              "      <td>11,870</td>\n",
              "      <td>15,222</td>\n",
              "      <td>17,461</td>\n",
              "      <td>19,151</td>\n",
              "      <td>20,126</td>\n",
              "      <td>20,680</td>\n",
              "      <td>20,680</td>\n",
              "      <td>20,680</td>\n",
              "    </tr>\n",
              "  </tbody>\n",
              "</table>"
            ]
          },
          "metadata": {},
          "execution_count": 18
        }
      ]
    },
    {
      "cell_type": "code",
      "metadata": {
        "colab": {
          "base_uri": "https://localhost:8080/",
          "height": 269
        },
        "id": "WtzR49JYzRgY",
        "outputId": "8def843c-b635-480f-f815-9b68b4702aa6"
      },
      "source": [
        "#incremental estimated full triangle\n",
        "full_triangle.cum_to_incr()"
      ],
      "execution_count": null,
      "outputs": [
        {
          "output_type": "execute_result",
          "data": {
            "text/plain": [
              "        12           24           36           48           60          72          84    96    9999\n",
              "2007  3511.0  3215.000000  2266.000000  1712.000000  1059.000000  587.000000  340.000000   NaN   NaN\n",
              "2008  4001.0  3702.000000  2278.000000  1180.000000   956.000000  629.000000  350.902024   NaN   NaN\n",
              "2009  4355.0  3932.000000  1946.000000  1522.000000  1238.000000  661.620101  375.916667   NaN   NaN\n",
              "2010  4295.0  3455.000000  2023.000000  1320.000000  1073.335187  619.525276  351.999397   NaN   NaN\n",
              "2011  4150.0  3747.000000  2320.000000  1502.970266  1133.999503  654.540504  371.894210   NaN   NaN\n",
              "2012  5102.0  4548.000000  2724.981102  1820.419755  1373.516924  792.789113  450.443753   NaN   NaN\n",
              "2013  6283.0  5587.058983  3351.884601  2239.221748  1689.505379  975.176532  554.071908   NaN   NaN"
            ],
            "text/html": [
              "<table border=\"1\" class=\"dataframe\">\n",
              "  <thead>\n",
              "    <tr style=\"text-align: right;\">\n",
              "      <th></th>\n",
              "      <th>12</th>\n",
              "      <th>24</th>\n",
              "      <th>36</th>\n",
              "      <th>48</th>\n",
              "      <th>60</th>\n",
              "      <th>72</th>\n",
              "      <th>84</th>\n",
              "      <th>96</th>\n",
              "      <th>9999</th>\n",
              "    </tr>\n",
              "  </thead>\n",
              "  <tbody>\n",
              "    <tr>\n",
              "      <th>2007</th>\n",
              "      <td>3,511</td>\n",
              "      <td>3,215</td>\n",
              "      <td>2,266</td>\n",
              "      <td>1,712</td>\n",
              "      <td>1,059</td>\n",
              "      <td>587</td>\n",
              "      <td>340</td>\n",
              "      <td></td>\n",
              "      <td></td>\n",
              "    </tr>\n",
              "    <tr>\n",
              "      <th>2008</th>\n",
              "      <td>4,001</td>\n",
              "      <td>3,702</td>\n",
              "      <td>2,278</td>\n",
              "      <td>1,180</td>\n",
              "      <td>956</td>\n",
              "      <td>629</td>\n",
              "      <td>351</td>\n",
              "      <td></td>\n",
              "      <td></td>\n",
              "    </tr>\n",
              "    <tr>\n",
              "      <th>2009</th>\n",
              "      <td>4,355</td>\n",
              "      <td>3,932</td>\n",
              "      <td>1,946</td>\n",
              "      <td>1,522</td>\n",
              "      <td>1,238</td>\n",
              "      <td>662</td>\n",
              "      <td>376</td>\n",
              "      <td></td>\n",
              "      <td></td>\n",
              "    </tr>\n",
              "    <tr>\n",
              "      <th>2010</th>\n",
              "      <td>4,295</td>\n",
              "      <td>3,455</td>\n",
              "      <td>2,023</td>\n",
              "      <td>1,320</td>\n",
              "      <td>1,073</td>\n",
              "      <td>620</td>\n",
              "      <td>352</td>\n",
              "      <td></td>\n",
              "      <td></td>\n",
              "    </tr>\n",
              "    <tr>\n",
              "      <th>2011</th>\n",
              "      <td>4,150</td>\n",
              "      <td>3,747</td>\n",
              "      <td>2,320</td>\n",
              "      <td>1,503</td>\n",
              "      <td>1,134</td>\n",
              "      <td>655</td>\n",
              "      <td>372</td>\n",
              "      <td></td>\n",
              "      <td></td>\n",
              "    </tr>\n",
              "    <tr>\n",
              "      <th>2012</th>\n",
              "      <td>5,102</td>\n",
              "      <td>4,548</td>\n",
              "      <td>2,725</td>\n",
              "      <td>1,820</td>\n",
              "      <td>1,374</td>\n",
              "      <td>793</td>\n",
              "      <td>450</td>\n",
              "      <td></td>\n",
              "      <td></td>\n",
              "    </tr>\n",
              "    <tr>\n",
              "      <th>2013</th>\n",
              "      <td>6,283</td>\n",
              "      <td>5,587</td>\n",
              "      <td>3,352</td>\n",
              "      <td>2,239</td>\n",
              "      <td>1,690</td>\n",
              "      <td>975</td>\n",
              "      <td>554</td>\n",
              "      <td></td>\n",
              "      <td></td>\n",
              "    </tr>\n",
              "  </tbody>\n",
              "</table>"
            ]
          },
          "metadata": {},
          "execution_count": 19
        }
      ]
    },
    {
      "cell_type": "code",
      "metadata": {
        "id": "LCgY20T1zXEp"
      },
      "source": [
        "#The Ultimate Loss can be calculated as the reverse diagonal or the alternate diagonal of the full triangle\n",
        "ultimate_loss= full_triangle.latest_diagonal"
      ],
      "execution_count": null,
      "outputs": []
    },
    {
      "cell_type": "code",
      "metadata": {
        "colab": {
          "base_uri": "https://localhost:8080/"
        },
        "id": "reVGzYWDzXtq",
        "outputId": "564c9e8b-de8e-4904-c8f7-663111b31946"
      },
      "source": [
        "#Taking ultimate loss on all years\n",
        "print(\"total sum of ultimate loss is\")\n",
        "ultimate_sum= ultimate_loss.sum()\n",
        "print(ultimate_sum)"
      ],
      "execution_count": null,
      "outputs": [
        {
          "output_type": "stream",
          "name": "stdout",
          "text": [
            "total sum of ultimate loss is\n",
            "104327.7729324564\n"
          ]
        }
      ]
    },
    {
      "cell_type": "code",
      "metadata": {
        "colab": {
          "base_uri": "https://localhost:8080/"
        },
        "id": "lrT-U-dRzbmk",
        "outputId": "15ffa636-fcb8-48d7-e70f-eb74db59251c"
      },
      "source": [
        "#Sum total of paid loss\n",
        "print(\"sum total of paid loss:\")\n",
        "paid_sum = latest_paid.sum()\n",
        "print(paid_sum)"
      ],
      "execution_count": null,
      "outputs": [
        {
          "output_type": "stream",
          "name": "stdout",
          "text": [
            "sum total of paid loss:\n",
            "75672.0\n"
          ]
        }
      ]
    },
    {
      "cell_type": "code",
      "metadata": {
        "colab": {
          "base_uri": "https://localhost:8080/"
        },
        "id": "wqYqtF5Yzhcz",
        "outputId": "656b4c98-a21d-45e5-a8ba-d6bef826fd87"
      },
      "source": [
        "#Sum of total of IBNR loss\n",
        "print(\"outstanding or ibnr total loss is\")\n",
        "ibnr_sum = ultimate_sum-paid_sum\n",
        "print(ibnr_sum)"
      ],
      "execution_count": null,
      "outputs": [
        {
          "output_type": "stream",
          "name": "stdout",
          "text": [
            "outstanding or ibnr total loss is\n",
            "28655.7729324564\n"
          ]
        }
      ]
    },
    {
      "cell_type": "markdown",
      "metadata": {
        "id": "o07vzmh0ziip"
      },
      "source": [
        "### **Tail Factors**"
      ]
    },
    {
      "cell_type": "code",
      "metadata": {
        "colab": {
          "base_uri": "https://localhost:8080/",
          "height": 202
        },
        "id": "TOigR0xJznGV",
        "outputId": "ad4d7644-1367-4fd0-b41d-8703bf259b58"
      },
      "source": [
        "#Predicting the tail factors which are the loss development factors beyond the current development period.\n",
        "tail = cl.TailCurve().fit(dev_triangle)\n",
        "print(\"cumulative development factors\")\n",
        "print(tail.cdf_)\n",
        "print(\"Loss development factors\")\n",
        "print(tail.ldf_)\n",
        "print(\"Tail estimates of next two years\")\n",
        "tail.cdf_[~tail.ldf_.development.isin(dev_triangle.link_ratio.development)]"
      ],
      "execution_count": null,
      "outputs": [
        {
          "output_type": "stream",
          "name": "stdout",
          "text": [
            "cumulative development factors\n",
            "         12-Ult    24-Ult    36-Ult    48-Ult    60-Ult   72-Ult    84-Ult    96-Ult\n",
            "(All)  3.382666  1.790496  1.396227  1.217175  1.109794  1.05602  1.027726  1.014334\n",
            "Loss development factors\n",
            "          12-24     24-36     36-48     48-60     60-72    72-84     84-96    96-108\n",
            "(All)  1.889234  1.282381  1.147105  1.096758  1.050921  1.02753  1.013203  1.014334\n",
            "Tail estimates of next two years\n"
          ]
        },
        {
          "output_type": "execute_result",
          "data": {
            "text/plain": [
              "         84-Ult    96-Ult\n",
              "(All)  1.027726  1.014334"
            ],
            "text/html": [
              "<table border=\"1\" class=\"dataframe\">\n",
              "  <thead>\n",
              "    <tr style=\"text-align: right;\">\n",
              "      <th></th>\n",
              "      <th>84-Ult</th>\n",
              "      <th>96-Ult</th>\n",
              "    </tr>\n",
              "  </thead>\n",
              "  <tbody>\n",
              "    <tr>\n",
              "      <th>(All)</th>\n",
              "      <td>1.0277</td>\n",
              "      <td>1.0143</td>\n",
              "    </tr>\n",
              "  </tbody>\n",
              "</table>"
            ]
          },
          "metadata": {},
          "execution_count": 24
        }
      ]
    },
    {
      "cell_type": "markdown",
      "metadata": {
        "id": "E9FzHVutK4jm"
      },
      "source": [
        "# **Stochastic Methods**"
      ]
    },
    {
      "cell_type": "markdown",
      "metadata": {
        "id": "j-TWJ6i4LAmv"
      },
      "source": [
        "## **Mack Model**"
      ]
    },
    {
      "cell_type": "code",
      "metadata": {
        "colab": {
          "base_uri": "https://localhost:8080/"
        },
        "id": "TcDeIcyGzyAy",
        "outputId": "4f12f8d3-8aac-49fc-b02c-fa886695d5de"
      },
      "source": [
        "#Loading the dataset RAA and constructing the Mack Chainladder model.\n",
        "data = cl.load_sample('ukmotor')\n",
        "mack = cl.MackChainladder()\n",
        "dev=cl.Development(average='volume')\n",
        "mack.fit(dev.fit_transform(data))"
      ],
      "execution_count": null,
      "outputs": [
        {
          "output_type": "execute_result",
          "data": {
            "text/plain": [
              "MackChainladder()"
            ]
          },
          "metadata": {},
          "execution_count": 25
        }
      ]
    },
    {
      "cell_type": "code",
      "metadata": {
        "colab": {
          "base_uri": "https://localhost:8080/",
          "height": 269
        },
        "id": "dgXdctBW0brk",
        "outputId": "e2fadc4f-9787-44e2-96c2-bd5238330ea7"
      },
      "source": [
        "#The Mack Chainladder model can be summarized as follows:\n",
        "mack.summary_"
      ],
      "execution_count": null,
      "outputs": [
        {
          "output_type": "execute_result",
          "data": {
            "text/plain": [
              "       Latest          IBNR      Ultimate  Mack Std Err\n",
              "2007  12690.0           NaN  12690.000000           NaN\n",
              "2008  12746.0    350.902024  13096.902024     27.246756\n",
              "2009  12993.0   1037.536767  14030.536767     36.524408\n",
              "2010  11093.0   2044.859861  13137.859861    144.534287\n",
              "2011  10217.0   3663.404483  13880.404483    427.634355\n",
              "2012   9650.0   7162.150646  16812.150646    693.166178\n",
              "2013   6283.0  14396.919151  20679.919151    901.408385"
            ],
            "text/html": [
              "<table border=\"1\" class=\"dataframe\">\n",
              "  <thead>\n",
              "    <tr style=\"text-align: right;\">\n",
              "      <th></th>\n",
              "      <th>Latest</th>\n",
              "      <th>IBNR</th>\n",
              "      <th>Ultimate</th>\n",
              "      <th>Mack Std Err</th>\n",
              "    </tr>\n",
              "  </thead>\n",
              "  <tbody>\n",
              "    <tr>\n",
              "      <th>2007</th>\n",
              "      <td>12,690</td>\n",
              "      <td></td>\n",
              "      <td>12,690</td>\n",
              "      <td></td>\n",
              "    </tr>\n",
              "    <tr>\n",
              "      <th>2008</th>\n",
              "      <td>12,746</td>\n",
              "      <td>351</td>\n",
              "      <td>13,097</td>\n",
              "      <td>27</td>\n",
              "    </tr>\n",
              "    <tr>\n",
              "      <th>2009</th>\n",
              "      <td>12,993</td>\n",
              "      <td>1,038</td>\n",
              "      <td>14,031</td>\n",
              "      <td>37</td>\n",
              "    </tr>\n",
              "    <tr>\n",
              "      <th>2010</th>\n",
              "      <td>11,093</td>\n",
              "      <td>2,045</td>\n",
              "      <td>13,138</td>\n",
              "      <td>145</td>\n",
              "    </tr>\n",
              "    <tr>\n",
              "      <th>2011</th>\n",
              "      <td>10,217</td>\n",
              "      <td>3,663</td>\n",
              "      <td>13,880</td>\n",
              "      <td>428</td>\n",
              "    </tr>\n",
              "    <tr>\n",
              "      <th>2012</th>\n",
              "      <td>9,650</td>\n",
              "      <td>7,162</td>\n",
              "      <td>16,812</td>\n",
              "      <td>693</td>\n",
              "    </tr>\n",
              "    <tr>\n",
              "      <th>2013</th>\n",
              "      <td>6,283</td>\n",
              "      <td>14,397</td>\n",
              "      <td>20,680</td>\n",
              "      <td>901</td>\n",
              "    </tr>\n",
              "  </tbody>\n",
              "</table>"
            ]
          },
          "metadata": {},
          "execution_count": 26
        }
      ]
    },
    {
      "cell_type": "code",
      "metadata": {
        "colab": {
          "base_uri": "https://localhost:8080/",
          "height": 366
        },
        "id": "b_6Zkb3902T0",
        "outputId": "15272bc4-bedc-4007-b129-6a4136fdd9a9"
      },
      "source": [
        "#Plotting the summary of the Mack Model\n",
        "plot_data = mack.summary_.to_frame()\n",
        "g = plot_data[['Latest', 'IBNR']] \\\n",
        "    .plot(kind='bar', stacked=True,\n",
        "          yerr=pd.DataFrame({'latest': plot_data['Mack Std Err']*0,\n",
        "                             'IBNR': plot_data['Mack Std Err']}),\n",
        "          ylim=(0, None), title='Mack Chainladder Ultimate')\n",
        "g.set_xlabel('Accident Year')\n",
        "g.set_ylabel('Loss');"
      ],
      "execution_count": null,
      "outputs": [
        {
          "output_type": "stream",
          "name": "stderr",
          "text": [
            "/usr/local/lib/python3.7/dist-packages/chainladder/core/pandas.py:57: UserWarning: In an upcoming version of the package, `origin_as_datetime` will be defaulted to `True` in to_frame(...), use `origin_as_datetime=False` to preserve current setting.\n",
            "  warnings.warn(warning)\n"
          ]
        },
        {
          "output_type": "display_data",
          "data": {
            "text/plain": [
              "<Figure size 432x288 with 1 Axes>"
            ],
            "image/png": "[encoded data removed]"
          },
          "metadata": {
            "needs_background": "light"
          }
        }
      ]
    },
    {
      "cell_type": "code",
      "metadata": {
        "colab": {
          "base_uri": "https://localhost:8080/",
          "height": 366
        },
        "id": "V14ye3A6z5gb",
        "outputId": "37a1d9f9-451c-4b98-f72e-ab6639c60d09"
      },
      "source": [
        "#Plotting the results of the Mack Chainladder\n",
        "plot_data = mack.summary_.to_frame()\n",
        "g = plot_data[['Latest', 'IBNR']].plot(\n",
        "    kind='bar', stacked=True, ylim=(0, None), grid=True,\n",
        "    yerr=pd.DataFrame({'latest': plot_data['Mack Std Err']*0,\n",
        "                       'IBNR': plot_data['Mack Std Err']}),\n",
        "    title='Mack Chainladder Ultimate').set(\n",
        "    xlabel='Accident Year', ylabel='Loss');"
      ],
      "execution_count": null,
      "outputs": [
        {
          "output_type": "stream",
          "name": "stderr",
          "text": [
            "/usr/local/lib/python3.7/dist-packages/chainladder/core/pandas.py:57: UserWarning: In an upcoming version of the package, `origin_as_datetime` will be defaulted to `True` in to_frame(...), use `origin_as_datetime=False` to preserve current setting.\n",
            "  warnings.warn(warning)\n"
          ]
        },
        {
          "output_type": "display_data",
          "data": {
            "text/plain": [
              "<Figure size 432x288 with 1 Axes>"
            ],
            "image/png": "[encoded data removed]"
          },
          "metadata": {
            "needs_background": "light"
          }
        }
      ]
    },
    {
      "cell_type": "code",
      "metadata": {
        "colab": {
          "base_uri": "https://localhost:8080/",
          "height": 269
        },
        "id": "5GVGPi2P0Vmb",
        "outputId": "ef16cc93-6f08-41b1-b8a2-f7d41d8768d8"
      },
      "source": [
        "#Obtaining the risk parameters\n",
        "mack.parameter_risk_"
      ],
      "execution_count": null,
      "outputs": [
        {
          "output_type": "execute_result",
          "data": {
            "text/plain": [
              "      12         24          36          48          60          72          84          9999\n",
              "2007   0.0    0.00000    0.000000    0.000000    0.000000    0.000000    0.000000    0.000000\n",
              "2008   0.0    0.00000    0.000000    0.000000    0.000000    0.000000   19.417777   19.417777\n",
              "2009   0.0    0.00000    0.000000    0.000000    0.000000   13.045507   24.746883   24.746883\n",
              "2010   0.0    0.00000    0.000000    0.000000   64.703473   69.086766   73.612599   73.612599\n",
              "2011   0.0    0.00000    0.000000  154.144198  182.356943  192.076864  198.434827  198.434827\n",
              "2012   0.0    0.00000  164.636581  265.563372  302.799197  318.601827  328.320613  328.320613\n",
              "2013   0.0  111.68961  248.043911  365.649563  413.759922  435.254027  448.286471  448.286471"
            ],
            "text/html": [
              "<table border=\"1\" class=\"dataframe\">\n",
              "  <thead>\n",
              "    <tr style=\"text-align: right;\">\n",
              "      <th></th>\n",
              "      <th>12</th>\n",
              "      <th>24</th>\n",
              "      <th>36</th>\n",
              "      <th>48</th>\n",
              "      <th>60</th>\n",
              "      <th>72</th>\n",
              "      <th>84</th>\n",
              "      <th>9999</th>\n",
              "    </tr>\n",
              "  </thead>\n",
              "  <tbody>\n",
              "    <tr>\n",
              "      <th>2007</th>\n",
              "      <td>0.00</td>\n",
              "      <td>0.00</td>\n",
              "      <td>0.00</td>\n",
              "      <td>0.00</td>\n",
              "      <td>0.00</td>\n",
              "      <td>0.00</td>\n",
              "      <td>0.00</td>\n",
              "      <td>0.00</td>\n",
              "    </tr>\n",
              "    <tr>\n",
              "      <th>2008</th>\n",
              "      <td>0.00</td>\n",
              "      <td>0.00</td>\n",
              "      <td>0.00</td>\n",
              "      <td>0.00</td>\n",
              "      <td>0.00</td>\n",
              "      <td>0.00</td>\n",
              "      <td>19.42</td>\n",
              "      <td>19.42</td>\n",
              "    </tr>\n",
              "    <tr>\n",
              "      <th>2009</th>\n",
              "      <td>0.00</td>\n",
              "      <td>0.00</td>\n",
              "      <td>0.00</td>\n",
              "      <td>0.00</td>\n",
              "      <td>0.00</td>\n",
              "      <td>13.05</td>\n",
              "      <td>24.75</td>\n",
              "      <td>24.75</td>\n",
              "    </tr>\n",
              "    <tr>\n",
              "      <th>2010</th>\n",
              "      <td>0.00</td>\n",
              "      <td>0.00</td>\n",
              "      <td>0.00</td>\n",
              "      <td>0.00</td>\n",
              "      <td>64.70</td>\n",
              "      <td>69.09</td>\n",
              "      <td>73.61</td>\n",
              "      <td>73.61</td>\n",
              "    </tr>\n",
              "    <tr>\n",
              "      <th>2011</th>\n",
              "      <td>0.00</td>\n",
              "      <td>0.00</td>\n",
              "      <td>0.00</td>\n",
              "      <td>154.14</td>\n",
              "      <td>182.36</td>\n",
              "      <td>192.08</td>\n",
              "      <td>198.43</td>\n",
              "      <td>198.43</td>\n",
              "    </tr>\n",
              "    <tr>\n",
              "      <th>2012</th>\n",
              "      <td>0.00</td>\n",
              "      <td>0.00</td>\n",
              "      <td>164.64</td>\n",
              "      <td>265.56</td>\n",
              "      <td>302.80</td>\n",
              "      <td>318.60</td>\n",
              "      <td>328.32</td>\n",
              "      <td>328.32</td>\n",
              "    </tr>\n",
              "    <tr>\n",
              "      <th>2013</th>\n",
              "      <td>0.00</td>\n",
              "      <td>111.69</td>\n",
              "      <td>248.04</td>\n",
              "      <td>365.65</td>\n",
              "      <td>413.76</td>\n",
              "      <td>435.25</td>\n",
              "      <td>448.29</td>\n",
              "      <td>448.29</td>\n",
              "    </tr>\n",
              "  </tbody>\n",
              "</table>"
            ]
          },
          "metadata": {},
          "execution_count": 29
        }
      ]
    },
    {
      "cell_type": "code",
      "metadata": {
        "colab": {
          "base_uri": "https://localhost:8080/",
          "height": 269
        },
        "id": "tekwddXa0Y4X",
        "outputId": "78babfba-90bf-483d-d199-681ad6bb1e18"
      },
      "source": [
        "#Finding out reserve variability of mack\n",
        "mack.mack_std_err_[mack.mack_std_err_.development==mack.mack_std_err_.development.max()]"
      ],
      "execution_count": null,
      "outputs": [
        {
          "output_type": "execute_result",
          "data": {
            "text/plain": [
              "            9999\n",
              "2007         NaN\n",
              "2008   27.246756\n",
              "2009   36.524408\n",
              "2010  144.534287\n",
              "2011  427.634355\n",
              "2012  693.166178\n",
              "2013  901.408385"
            ],
            "text/html": [
              "<table border=\"1\" class=\"dataframe\">\n",
              "  <thead>\n",
              "    <tr style=\"text-align: right;\">\n",
              "      <th></th>\n",
              "      <th>9999</th>\n",
              "    </tr>\n",
              "  </thead>\n",
              "  <tbody>\n",
              "    <tr>\n",
              "      <th>2007</th>\n",
              "      <td></td>\n",
              "    </tr>\n",
              "    <tr>\n",
              "      <th>2008</th>\n",
              "      <td>27.25</td>\n",
              "    </tr>\n",
              "    <tr>\n",
              "      <th>2009</th>\n",
              "      <td>36.52</td>\n",
              "    </tr>\n",
              "    <tr>\n",
              "      <th>2010</th>\n",
              "      <td>144.53</td>\n",
              "    </tr>\n",
              "    <tr>\n",
              "      <th>2011</th>\n",
              "      <td>427.63</td>\n",
              "    </tr>\n",
              "    <tr>\n",
              "      <th>2012</th>\n",
              "      <td>693.17</td>\n",
              "    </tr>\n",
              "    <tr>\n",
              "      <th>2013</th>\n",
              "      <td>901.41</td>\n",
              "    </tr>\n",
              "  </tbody>\n",
              "</table>"
            ]
          },
          "metadata": {},
          "execution_count": 30
        }
      ]
    },
    {
      "cell_type": "code",
      "metadata": {
        "colab": {
          "base_uri": "https://localhost:8080/",
          "height": 281
        },
        "id": "k1W0KvZq06NR",
        "outputId": "6332958d-2548-4749-ab85-3378df17052a"
      },
      "source": [
        "#The IBNR estimate follows a normal distribution\n",
        "dist = pd.Series(np.random.normal(mack.ibnr_.sum(),\n",
        "                           mack.total_mack_std_err_.values[0, 0], size=10000))\n",
        "dist.plot(\n",
        "    kind='hist', bins=50,\n",
        "    title=\"Normally distributed IBNR estimate with a mean of \" + '{:,}'.format(round(mack.ibnr_.sum(),0))[:-2]);"
      ],
      "execution_count": null,
      "outputs": [
        {
          "output_type": "display_data",
          "data": {
            "text/plain": [
              "<Figure size 432x288 with 1 Axes>"
            ],
            "image/png": "[encoded data removed]"
          },
          "metadata": {
            "needs_background": "light"
          }
        }
      ]
    },
    {
      "cell_type": "markdown",
      "metadata": {
        "id": "i-OvzfLMCr0Z"
      },
      "source": [
        "# **Poisson Regression Model**\n",
        "## **Difference Between Poisson Regression Model and Traditional Model**"
      ]
    },
    {
      "cell_type": "code",
      "metadata": {
        "colab": {
          "base_uri": "https://localhost:8080/",
          "height": 456
        },
        "id": "64l8zByl0-dj",
        "outputId": "d418a1f7-c2e8-49b6-95a4-bf313671c36a"
      },
      "source": [
        "#Creating a Poisson Regression Model first using the TweedieGLM function and then comparing it with a traditional model\n",
        "genins= cl.load_sample('ukmotor')\n",
        "dev = cl.TweedieGLM(\n",
        "    design_matrix = 'C(development) + C(origin)',\n",
        "    link = 'log', power = 1).fit(genins)\n",
        "glm = dev.ldf_.iloc[..., 0, :].T.iloc[:,0].rename('GLM')\n",
        "traditional = cl.Development().fit(genins).ldf_.T.iloc[:, 0].rename('Traditional')\n",
        "pd.concat((glm,traditional), 1).plot(kind='bar', title='LDF: Poisson GLM vs Traditional');\n",
        "glm\n",
        "traditional"
      ],
      "execution_count": null,
      "outputs": [
        {
          "output_type": "stream",
          "name": "stderr",
          "text": [
            "/usr/local/lib/python3.7/dist-packages/ipykernel_launcher.py:8: FutureWarning: In a future version of pandas all arguments of concat except for the argument 'objs' will be keyword-only\n",
            "  \n"
          ]
        },
        {
          "output_type": "execute_result",
          "data": {
            "text/plain": [
              "12-24    1.889234\n",
              "24-36    1.282381\n",
              "36-48    1.147105\n",
              "48-60    1.096758\n",
              "60-72    1.050921\n",
              "72-84    1.027530\n",
              "Name: Traditional, dtype: float64"
            ]
          },
          "metadata": {},
          "execution_count": 32
        },
        {
          "output_type": "display_data",
          "data": {
            "text/plain": [
              "<Figure size 432x288 with 1 Axes>"
            ],
            "image/png": "[encoded data removed]"
          },
          "metadata": {
            "needs_background": "light"
          }
        }
      ]
    },
    {
      "cell_type": "markdown",
      "metadata": {
        "id": "ygFkwEC5JfBi"
      },
      "source": [
        "# **Over Disperssed Poisson Bootstrap Model**"
      ]
    },
    {
      "cell_type": "code",
      "metadata": {
        "colab": {
          "base_uri": "https://localhost:8080/",
          "height": 310
        },
        "id": "_7IQLMc1JdG8",
        "outputId": "79d098ab-df58-4892-ee47-de68008ac20b"
      },
      "source": [
        "#Loading 2 sample sets of RAA and Genins and creating their respect ODP Bootstrap Model\n",
        "raa_triangle = cl.load_sample('raa')\n",
        "genins_triangle = cl.load_sample('genins')\n",
        "raa_insur = cl.BootstrapODPSample().fit_transform(raa_triangle)\n",
        "sims_insur = cl.BootstrapODPSample().fit_transform(genins_triangle)\n",
        "raa_insur_ldf = cl.Development().fit(raa_insur).ldf_\n",
        "sims_insur_ldf = cl.Development().fit(sims_insur).ldf_\n",
        "raa_insur\n",
        "sims_insur\n",
        "raa_insur_ldf\n",
        "sims_insur_ldf"
      ],
      "execution_count": null,
      "outputs": [
        {
          "output_type": "stream",
          "name": "stderr",
          "text": [
            "/usr/local/lib/python3.7/dist-packages/chainladder/utils/weighted_regression.py:76: RuntimeWarning: invalid value encountered in sqrt\n",
            "  residual = (y - fitted_value) * xp.sqrt(w)\n",
            "/usr/local/lib/python3.7/dist-packages/chainladder/development/development.py:163: RuntimeWarning: invalid value encountered in sqrt\n",
            "  / xp.swapaxes(xp.sqrt(x ** (2 - exponent))[..., 0:1, :], -1, -2)\n",
            "/usr/local/lib/python3.7/dist-packages/chainladder/development/development.py:173: RuntimeWarning: invalid value encountered in sqrt\n",
            "  std = xp.sqrt((1/num_to_nan(w))*(self.sigma_**2).values)\n"
          ]
        },
        {
          "output_type": "execute_result",
          "data": {
            "text/plain": [
              "           Triangle Summary\n",
              "Valuation:          2261-12\n",
              "Grain:                 OYDY\n",
              "Shape:      (1000, 1, 1, 9)\n",
              "Index:              [Total]\n",
              "Columns:           [values]"
            ],
            "text/html": [
              "<table border=\"1\" class=\"dataframe\">\n",
              "  <thead>\n",
              "    <tr style=\"text-align: right;\">\n",
              "      <th></th>\n",
              "      <th>Triangle Summary</th>\n",
              "    </tr>\n",
              "  </thead>\n",
              "  <tbody>\n",
              "    <tr>\n",
              "      <th>Valuation:</th>\n",
              "      <td>2261-12</td>\n",
              "    </tr>\n",
              "    <tr>\n",
              "      <th>Grain:</th>\n",
              "      <td>OYDY</td>\n",
              "    </tr>\n",
              "    <tr>\n",
              "      <th>Shape:</th>\n",
              "      <td>(1000, 1, 1, 9)</td>\n",
              "    </tr>\n",
              "    <tr>\n",
              "      <th>Index:</th>\n",
              "      <td>[Total]</td>\n",
              "    </tr>\n",
              "    <tr>\n",
              "      <th>Columns:</th>\n",
              "      <td>[values]</td>\n",
              "    </tr>\n",
              "  </tbody>\n",
              "</table>"
            ]
          },
          "metadata": {},
          "execution_count": 33
        }
      ]
    },
    {
      "cell_type": "code",
      "metadata": {
        "colab": {
          "base_uri": "https://localhost:8080/",
          "height": 710
        },
        "id": "Nk1V2s39J0Cc",
        "outputId": "ee725852-697a-4505-be4e-634d6c63b8ca"
      },
      "source": [
        "#Plot for the genins data set\n",
        "fig, ((ax00, ax01), (ax10, ax11)) = plt.subplots(ncols=2, nrows=2, figsize=(10,10))\n",
        "# Plot 1\n",
        "genins_triangle.T.plot(ax=ax00, grid=True).set(title='Raw Data', xlabel='Development', ylabel='Incurred')\n",
        "# Plot 2\n",
        "sims_insur.mean().T.plot(ax=ax01, grid=True).set(title='Mean Simulation', xlabel='Development')\n",
        "# Plot 3\n",
        "sims_insur_ldf.T.plot(legend=False, color='lightgray', ax=ax10, grid=True).set(\n",
        "    title='Simulated LDF', xlabel='Development', ylabel='LDF')\n",
        "cl.Development().fit(genins_triangle).ldf_.drop_duplicates().T.plot(\n",
        "    legend=False, color='red', ax=ax10, grid=True)\n",
        "# Plot 4\n",
        "sims_insur_ldf.T.loc['12-24'].plot(\n",
        "    kind='hist', bins=50, alpha=0.5, ax=ax11 , grid=True).set(\n",
        "    title='Age 12-24 LDF Distribution', xlabel='LDF');"
      ],
      "execution_count": null,
      "outputs": [
        {
          "output_type": "stream",
          "name": "stderr",
          "text": [
            "/usr/local/lib/python3.7/dist-packages/chainladder/core/pandas.py:365: RuntimeWarning: Mean of empty slice\n",
            "  obj.values = func(obj.values, axis=axis, *args, **kwargs)\n",
            "/usr/local/lib/python3.7/dist-packages/chainladder/core/pandas.py:57: UserWarning: In an upcoming version of the package, `origin_as_datetime` will be defaulted to `True` in to_frame(...), use `origin_as_datetime=False` to preserve current setting.\n",
            "  warnings.warn(warning)\n"
          ]
        },
        {
          "output_type": "display_data",
          "data": {
            "text/plain": [
              "<Figure size 720x720 with 4 Axes>"
            ],
            "image/png": "[encoded data removed]"
          },
          "metadata": {
            "needs_background": "light"
          }
        }
      ]
    },
    {
      "cell_type": "code",
      "metadata": {
        "colab": {
          "base_uri": "https://localhost:8080/",
          "height": 710
        },
        "id": "sQ7d-RNUJ3Ac",
        "outputId": "f738aacd-8b79-477a-ab34-0c79ec6d2721"
      },
      "source": [
        "#Plot for the RAA data set\n",
        "fig, ((ax00, ax01), (ax10, ax11)) = plt.subplots(ncols=2, nrows=2, figsize=(10,10))\n",
        "# Plot 1\n",
        "raa_triangle.T.plot(ax=ax00, grid=True).set(title='Raw Data', xlabel='Development', ylabel='Incurred')\n",
        "# Plot 2\n",
        "raa_insur.mean().T.plot(ax=ax01, grid=True).set(title='Mean Simulation', xlabel='Development')\n",
        "# Plot 3\n",
        "raa_insur_ldf.T.plot(legend=False, color='lightgray', ax=ax10, grid=True).set(\n",
        "    title='Simulated LDF', xlabel='Development', ylabel='LDF')\n",
        "cl.Development().fit(raa_triangle).ldf_.drop_duplicates().T.plot(\n",
        "    legend=False, color='red', ax=ax10, grid=True)\n",
        "# Plot 4\n",
        "raa_insur_ldf.T.loc['12-24'].plot(\n",
        "    kind='hist', bins=50, alpha=0.5, ax=ax11 , grid=True).set(\n",
        "    title='Age 12-24 LDF Distribution', xlabel='LDF');"
      ],
      "execution_count": null,
      "outputs": [
        {
          "output_type": "stream",
          "name": "stderr",
          "text": [
            "/usr/local/lib/python3.7/dist-packages/chainladder/core/pandas.py:365: RuntimeWarning: Mean of empty slice\n",
            "  obj.values = func(obj.values, axis=axis, *args, **kwargs)\n",
            "/usr/local/lib/python3.7/dist-packages/chainladder/core/pandas.py:57: UserWarning: In an upcoming version of the package, `origin_as_datetime` will be defaulted to `True` in to_frame(...), use `origin_as_datetime=False` to preserve current setting.\n",
            "  warnings.warn(warning)\n"
          ]
        },
        {
          "output_type": "display_data",
          "data": {
            "text/plain": [
              "<Figure size 720x720 with 4 Axes>"
            ],
            "image/png": "[encoded data removed]"
          },
          "metadata": {
            "needs_background": "light"
          }
        }
      ]
    },
    {
      "cell_type": "markdown",
      "metadata": {
        "id": "EjnbHS2GJ7yl"
      },
      "source": [
        "## **ODP Bootstrap Model Comparrision With Other Models**"
      ]
    },
    {
      "cell_type": "code",
      "metadata": {
        "id": "xywe_jD1KJu7"
      },
      "source": [
        "#Loading the RAA data set\n",
        "triangle = cl.load_sample('raa')"
      ],
      "execution_count": null,
      "outputs": []
    },
    {
      "cell_type": "code",
      "metadata": {
        "colab": {
          "base_uri": "https://localhost:8080/",
          "height": 206
        },
        "id": "1d2teuLYKNNt",
        "outputId": "b415cdc5-d41a-4ac7-fac6-dfb3b580b197"
      },
      "source": [
        "#Creating an ODP Bootstrap Model \n",
        "s1 = cl.BootstrapODPSample(\n",
        "    n_sims=5000, random_state=42).fit(triangle).resampled_triangles_\n",
        "s1"
      ],
      "execution_count": null,
      "outputs": [
        {
          "output_type": "execute_result",
          "data": {
            "text/plain": [
              "             Triangle Summary\n",
              "Valuation:            1990-12\n",
              "Grain:                   OYDY\n",
              "Shape:      (5000, 1, 10, 10)\n",
              "Index:                [Total]\n",
              "Columns:             [values]"
            ],
            "text/html": [
              "<table border=\"1\" class=\"dataframe\">\n",
              "  <thead>\n",
              "    <tr style=\"text-align: right;\">\n",
              "      <th></th>\n",
              "      <th>Triangle Summary</th>\n",
              "    </tr>\n",
              "  </thead>\n",
              "  <tbody>\n",
              "    <tr>\n",
              "      <th>Valuation:</th>\n",
              "      <td>1990-12</td>\n",
              "    </tr>\n",
              "    <tr>\n",
              "      <th>Grain:</th>\n",
              "      <td>OYDY</td>\n",
              "    </tr>\n",
              "    <tr>\n",
              "      <th>Shape:</th>\n",
              "      <td>(5000, 1, 10, 10)</td>\n",
              "    </tr>\n",
              "    <tr>\n",
              "      <th>Index:</th>\n",
              "      <td>[Total]</td>\n",
              "    </tr>\n",
              "    <tr>\n",
              "      <th>Columns:</th>\n",
              "      <td>[values]</td>\n",
              "    </tr>\n",
              "  </tbody>\n",
              "</table>"
            ]
          },
          "metadata": {},
          "execution_count": 45
        }
      ]
    },
    {
      "cell_type": "code",
      "metadata": {
        "colab": {
          "base_uri": "https://localhost:8080/",
          "height": 261
        },
        "id": "aDfgIKw8KQMU",
        "outputId": "3c2d4ec6-13e4-43b6-fc2b-3690f527fd8e"
      },
      "source": [
        "s2 = cl.BootstrapODPSample(\n",
        "    drop_high=True, drop_low=True,\n",
        "    n_sims=5000, random_state=42).fit_transform(triangle)\n",
        "s2"
      ],
      "execution_count": null,
      "outputs": [
        {
          "output_type": "stream",
          "name": "stderr",
          "text": [
            "/usr/local/lib/python3.7/dist-packages/chainladder/development/base.py:144: UserWarning: Some exclusions have been ignored. At least 1 (use preserve = ...) link ratio(s) is required for development estimation.\n",
            "  warnings.warn(warning)\n"
          ]
        },
        {
          "output_type": "execute_result",
          "data": {
            "text/plain": [
              "             Triangle Summary\n",
              "Valuation:            1990-12\n",
              "Grain:                   OYDY\n",
              "Shape:      (5000, 1, 10, 10)\n",
              "Index:                [Total]\n",
              "Columns:             [values]"
            ],
            "text/html": [
              "<table border=\"1\" class=\"dataframe\">\n",
              "  <thead>\n",
              "    <tr style=\"text-align: right;\">\n",
              "      <th></th>\n",
              "      <th>Triangle Summary</th>\n",
              "    </tr>\n",
              "  </thead>\n",
              "  <tbody>\n",
              "    <tr>\n",
              "      <th>Valuation:</th>\n",
              "      <td>1990-12</td>\n",
              "    </tr>\n",
              "    <tr>\n",
              "      <th>Grain:</th>\n",
              "      <td>OYDY</td>\n",
              "    </tr>\n",
              "    <tr>\n",
              "      <th>Shape:</th>\n",
              "      <td>(5000, 1, 10, 10)</td>\n",
              "    </tr>\n",
              "    <tr>\n",
              "      <th>Index:</th>\n",
              "      <td>[Total]</td>\n",
              "    </tr>\n",
              "    <tr>\n",
              "      <th>Columns:</th>\n",
              "      <td>[values]</td>\n",
              "    </tr>\n",
              "  </tbody>\n",
              "</table>"
            ]
          },
          "metadata": {},
          "execution_count": 46
        }
      ]
    },
    {
      "cell_type": "code",
      "metadata": {
        "id": "Fs345yHyKSg4",
        "colab": {
          "base_uri": "https://localhost:8080/"
        },
        "outputId": "605d1924-6321-46f7-f95f-66b24b6a55fd"
      },
      "source": [
        "results = cl.Chainladder().fit(s1).ibnr_.sum('origin').rename('columns', ['Original'])\n",
        "# Add another column to triangle with second set of results.\n",
        "results['Dropped'] = cl.Chainladder().fit(s2).ibnr_.sum('origin')"
      ],
      "execution_count": null,
      "outputs": [
        {
          "output_type": "stream",
          "name": "stderr",
          "text": [
            "/usr/local/lib/python3.7/dist-packages/chainladder/utils/weighted_regression.py:76: RuntimeWarning: invalid value encountered in sqrt\n",
            "  residual = (y - fitted_value) * xp.sqrt(w)\n",
            "/usr/local/lib/python3.7/dist-packages/chainladder/development/development.py:163: RuntimeWarning: invalid value encountered in sqrt\n",
            "  / xp.swapaxes(xp.sqrt(x ** (2 - exponent))[..., 0:1, :], -1, -2)\n",
            "/usr/local/lib/python3.7/dist-packages/chainladder/development/development.py:173: RuntimeWarning: invalid value encountered in sqrt\n",
            "  std = xp.sqrt((1/num_to_nan(w))*(self.sigma_**2).values)\n",
            "/usr/local/lib/python3.7/dist-packages/chainladder/tails/base.py:120: RuntimeWarning: overflow encountered in exp\n",
            "  sigma_ = xp.exp(time_pd * reg.slope_ + reg.intercept_)\n",
            "/usr/local/lib/python3.7/dist-packages/chainladder/tails/base.py:124: RuntimeWarning: overflow encountered in exp\n",
            "  std_err_ = xp.exp(time_pd * reg.slope_ + reg.intercept_)\n",
            "/usr/local/lib/python3.7/dist-packages/chainladder/tails/base.py:127: RuntimeWarning: invalid value encountered in multiply\n",
            "  sigma_ = sigma_ * 0\n",
            "/usr/local/lib/python3.7/dist-packages/chainladder/tails/base.py:128: RuntimeWarning: invalid value encountered in multiply\n",
            "  std_err_ = std_err_* 0\n"
          ]
        }
      ]
    },
    {
      "cell_type": "code",
      "metadata": {
        "colab": {
          "base_uri": "https://localhost:8080/",
          "height": 351
        },
        "id": "Qhr41xBoKVfW",
        "outputId": "1d5d5bd3-2f79-40ed-e240-550c8cfff89e"
      },
      "source": [
        "results.to_frame().plot(kind='hist', bins=50, alpha=0.5, grid=True).set(\n",
        "    xlabel='Ultimate')"
      ],
      "execution_count": null,
      "outputs": [
        {
          "output_type": "stream",
          "name": "stderr",
          "text": [
            "/usr/local/lib/python3.7/dist-packages/chainladder/core/pandas.py:57: UserWarning: In an upcoming version of the package, `origin_as_datetime` will be defaulted to `True` in to_frame(...), use `origin_as_datetime=False` to preserve current setting.\n",
            "  warnings.warn(warning)\n"
          ]
        },
        {
          "output_type": "execute_result",
          "data": {
            "text/plain": [
              "[Text(0.5, 0, 'Ultimate')]"
            ]
          },
          "metadata": {},
          "execution_count": 48
        },
        {
          "output_type": "display_data",
          "data": {
            "text/plain": [
              "<Figure size 432x288 with 1 Axes>"
            ],
            "image/png": "[encoded data removed]"
          },
          "metadata": {
            "needs_background": "light"
          }
        }
      ]
    },
    {
      "cell_type": "code",
      "metadata": {
        "id": "f-ldB4oaKZWZ"
      },
      "source": [
        "tri_first_lags = triangle[triangle.development<=24][triangle.origin<'1990']"
      ],
      "execution_count": null,
      "outputs": []
    },
    {
      "cell_type": "code",
      "source": [
        "tri_first_lags"
      ],
      "metadata": {
        "colab": {
          "base_uri": "https://localhost:8080/",
          "height": 332
        },
        "id": "hiL92xfXk3xF",
        "outputId": "750a92c4-202f-421d-b0ab-0f7058ff28e3"
      },
      "execution_count": null,
      "outputs": [
        {
          "output_type": "execute_result",
          "data": {
            "text/plain": [
              "          12       24\n",
              "1981  5012.0   8269.0\n",
              "1982   106.0   4285.0\n",
              "1983  3410.0   8992.0\n",
              "1984  5655.0  11555.0\n",
              "1985  1092.0   9565.0\n",
              "1986  1513.0   6445.0\n",
              "1987   557.0   4020.0\n",
              "1988  1351.0   6947.0\n",
              "1989  3133.0   5395.0"
            ],
            "text/html": [
              "<table border=\"1\" class=\"dataframe\">\n",
              "  <thead>\n",
              "    <tr style=\"text-align: right;\">\n",
              "      <th></th>\n",
              "      <th>12</th>\n",
              "      <th>24</th>\n",
              "    </tr>\n",
              "  </thead>\n",
              "  <tbody>\n",
              "    <tr>\n",
              "      <th>1981</th>\n",
              "      <td>5,012</td>\n",
              "      <td>8,269</td>\n",
              "    </tr>\n",
              "    <tr>\n",
              "      <th>1982</th>\n",
              "      <td>106</td>\n",
              "      <td>4,285</td>\n",
              "    </tr>\n",
              "    <tr>\n",
              "      <th>1983</th>\n",
              "      <td>3,410</td>\n",
              "      <td>8,992</td>\n",
              "    </tr>\n",
              "    <tr>\n",
              "      <th>1984</th>\n",
              "      <td>5,655</td>\n",
              "      <td>11,555</td>\n",
              "    </tr>\n",
              "    <tr>\n",
              "      <th>1985</th>\n",
              "      <td>1,092</td>\n",
              "      <td>9,565</td>\n",
              "    </tr>\n",
              "    <tr>\n",
              "      <th>1986</th>\n",
              "      <td>1,513</td>\n",
              "      <td>6,445</td>\n",
              "    </tr>\n",
              "    <tr>\n",
              "      <th>1987</th>\n",
              "      <td>557</td>\n",
              "      <td>4,020</td>\n",
              "    </tr>\n",
              "    <tr>\n",
              "      <th>1988</th>\n",
              "      <td>1,351</td>\n",
              "      <td>6,947</td>\n",
              "    </tr>\n",
              "    <tr>\n",
              "      <th>1989</th>\n",
              "      <td>3,133</td>\n",
              "      <td>5,395</td>\n",
              "    </tr>\n",
              "  </tbody>\n",
              "</table>"
            ]
          },
          "metadata": {},
          "execution_count": 67
        }
      ]
    },
    {
      "cell_type": "markdown",
      "metadata": {
        "id": "GpxkEj1BLMl0"
      },
      "source": [
        "## **Chain Ladder in Linear Regression Format**"
      ]
    },
    {
      "cell_type": "code",
      "metadata": {
        "colab": {
          "base_uri": "https://localhost:8080/",
          "height": 520
        },
        "id": "is2HFTkFLUt4",
        "outputId": "4af41af8-6c90-4bb3-a10b-31e18b7dc420"
      },
      "source": [
        "#Splitting the data into X and Y and then creating a Linear Regression Model.\n",
        "y = tri_first_lags .to_frame().values[:, 1]\n",
        "X = tri_first_lags .to_frame().values[:, 0]\n",
        "\n",
        "model = sm.WLS(y, X, weights=(1/X)**2)\n",
        "results = model.fit()\n",
        "results.summary()"
      ],
      "execution_count": null,
      "outputs": [
        {
          "output_type": "stream",
          "name": "stderr",
          "text": [
            "/usr/local/lib/python3.7/dist-packages/chainladder/core/pandas.py:57: UserWarning: In an upcoming version of the package, `origin_as_datetime` will be defaulted to `True` in to_frame(...), use `origin_as_datetime=False` to preserve current setting.\n",
            "  warnings.warn(warning)\n",
            "/usr/local/lib/python3.7/dist-packages/scipy/stats/stats.py:1535: UserWarning: kurtosistest only valid for n>=20 ... continuing anyway, n=9\n",
            "  \"anyway, n=%i\" % int(n))\n"
          ]
        },
        {
          "output_type": "execute_result",
          "data": {
            "text/plain": [
              "<class 'statsmodels.iolib.summary.Summary'>\n",
              "\"\"\"\n",
              "                                 WLS Regression Results                                \n",
              "=======================================================================================\n",
              "Dep. Variable:                      y   R-squared (uncentered):                   0.332\n",
              "Model:                            WLS   Adj. R-squared (uncentered):              0.249\n",
              "Method:                 Least Squares   F-statistic:                              3.980\n",
              "Date:                Mon, 18 Apr 2022   Prob (F-statistic):                      0.0812\n",
              "Time:                        12:07:19   Log-Likelihood:                         -100.71\n",
              "No. Observations:                   9   AIC:                                      203.4\n",
              "Df Residuals:                       8   BIC:                                      203.6\n",
              "Df Model:                           1                                                  \n",
              "Covariance Type:            nonrobust                                                  \n",
              "==============================================================================\n",
              "                 coef    std err          t      P>|t|      [0.025      0.975]\n",
              "------------------------------------------------------------------------------\n",
              "x1             8.2061      4.113      1.995      0.081      -1.280      17.692\n",
              "==============================================================================\n",
              "Omnibus:                       22.767   Durbin-Watson:                   2.480\n",
              "Prob(Omnibus):                  0.000   Jarque-Bera (JB):               12.618\n",
              "Skew:                           2.285   Prob(JB):                      0.00182\n",
              "Kurtosis:                       6.572   Cond. No.                         1.00\n",
              "==============================================================================\n",
              "\n",
              "Warnings:\n",
              "[1] Standard Errors assume that the covariance matrix of the errors is correctly specified.\n",
              "\"\"\""
            ],
            "text/html": [
              "<table class=\"simpletable\">\n",
              "<caption>WLS Regression Results</caption>\n",
              "<tr>\n",
              "  <th>Dep. Variable:</th>            <td>y</td>        <th>  R-squared (uncentered):</th>      <td>   0.332</td>\n",
              "</tr>\n",
              "<tr>\n",
              "  <th>Model:</th>                   <td>WLS</td>       <th>  Adj. R-squared (uncentered):</th> <td>   0.249</td>\n",
              "</tr>\n",
              "<tr>\n",
              "  <th>Method:</th>             <td>Least Squares</td>  <th>  F-statistic:       </th>          <td>   3.980</td>\n",
              "</tr>\n",
              "<tr>\n",
              "  <th>Date:</th>             <td>Mon, 18 Apr 2022</td> <th>  Prob (F-statistic):</th>           <td>0.0812</td> \n",
              "</tr>\n",
              "<tr>\n",
              "  <th>Time:</th>                 <td>12:07:19</td>     <th>  Log-Likelihood:    </th>          <td> -100.71</td>\n",
              "</tr>\n",
              "<tr>\n",
              "  <th>No. Observations:</th>      <td>     9</td>      <th>  AIC:               </th>          <td>   203.4</td>\n",
              "</tr>\n",
              "<tr>\n",
              "  <th>Df Residuals:</th>          <td>     8</td>      <th>  BIC:               </th>          <td>   203.6</td>\n",
              "</tr>\n",
              "<tr>\n",
              "  <th>Df Model:</th>              <td>     1</td>      <th>                     </th>              <td> </td>   \n",
              "</tr>\n",
              "<tr>\n",
              "  <th>Covariance Type:</th>      <td>nonrobust</td>    <th>                     </th>              <td> </td>   \n",
              "</tr>\n",
              "</table>\n",
              "<table class=\"simpletable\">\n",
              "<tr>\n",
              "   <td></td>     <th>coef</th>     <th>std err</th>      <th>t</th>      <th>P>|t|</th>  <th>[0.025</th>    <th>0.975]</th>  \n",
              "</tr>\n",
              "<tr>\n",
              "  <th>x1</th> <td>    8.2061</td> <td>    4.113</td> <td>    1.995</td> <td> 0.081</td> <td>   -1.280</td> <td>   17.692</td>\n",
              "</tr>\n",
              "</table>\n",
              "<table class=\"simpletable\">\n",
              "<tr>\n",
              "  <th>Omnibus:</th>       <td>22.767</td> <th>  Durbin-Watson:     </th> <td>   2.480</td>\n",
              "</tr>\n",
              "<tr>\n",
              "  <th>Prob(Omnibus):</th> <td> 0.000</td> <th>  Jarque-Bera (JB):  </th> <td>  12.618</td>\n",
              "</tr>\n",
              "<tr>\n",
              "  <th>Skew:</th>          <td> 2.285</td> <th>  Prob(JB):          </th> <td> 0.00182</td>\n",
              "</tr>\n",
              "<tr>\n",
              "  <th>Kurtosis:</th>      <td> 6.572</td> <th>  Cond. No.          </th> <td>    1.00</td>\n",
              "</tr>\n",
              "</table><br/><br/>Warnings:<br/>[1] Standard Errors assume that the covariance matrix of the errors is correctly specified."
            ]
          },
          "metadata": {},
          "execution_count": 50
        }
      ]
    },
    {
      "cell_type": "code",
      "source": [
        "y"
      ],
      "metadata": {
        "colab": {
          "base_uri": "https://localhost:8080/"
        },
        "id": "O684yxGPk6Ac",
        "outputId": "effc82b8-ac94-4e06-ed66-0844f41c5db6"
      },
      "execution_count": null,
      "outputs": [
        {
          "output_type": "execute_result",
          "data": {
            "text/plain": [
              "array([ 8269.,  4285.,  8992., 11555.,  9565.,  6445.,  4020.,  6947.,\n",
              "        5395.])"
            ]
          },
          "metadata": {},
          "execution_count": 68
        }
      ]
    },
    {
      "cell_type": "code",
      "metadata": {
        "colab": {
          "base_uri": "https://localhost:8080/"
        },
        "id": "pX24TtXOLnBS",
        "outputId": "a974c3f9-e1a2-407d-a136-a4408d39059e"
      },
      "source": [
        "#Link Ratio\n",
        "tri_first_lags.link_ratio.to_frame().mean().values[0]"
      ],
      "execution_count": null,
      "outputs": [
        {
          "output_type": "stream",
          "name": "stderr",
          "text": [
            "/usr/local/lib/python3.7/dist-packages/chainladder/core/pandas.py:57: UserWarning: In an upcoming version of the package, `origin_as_datetime` will be defaulted to `True` in to_frame(...), use `origin_as_datetime=False` to preserve current setting.\n",
            "  warnings.warn(warning)\n"
          ]
        },
        {
          "output_type": "execute_result",
          "data": {
            "text/plain": [
              "8.206099279541355"
            ]
          },
          "metadata": {},
          "execution_count": 51
        }
      ]
    },
    {
      "cell_type": "code",
      "metadata": {
        "colab": {
          "base_uri": "https://localhost:8080/"
        },
        "id": "S3BoD7N6Lq7Q",
        "outputId": "a1885807-f2ac-4c93-efcb-fa79bf232456"
      },
      "source": [
        "dev = cl.Development(average='simple').fit(triangle)\n",
        "dev"
      ],
      "execution_count": null,
      "outputs": [
        {
          "output_type": "execute_result",
          "data": {
            "text/plain": [
              "Development(average='simple')"
            ]
          },
          "metadata": {},
          "execution_count": 52
        }
      ]
    },
    {
      "cell_type": "code",
      "metadata": {
        "colab": {
          "base_uri": "https://localhost:8080/",
          "height": 81
        },
        "id": "QIGYzhaZLt8o",
        "outputId": "c8a12b3a-c021-41d1-9c78-b5314f865e25"
      },
      "source": [
        "#Standard Error\n",
        "dev.std_err_"
      ],
      "execution_count": null,
      "outputs": [
        {
          "output_type": "execute_result",
          "data": {
            "text/plain": [
              "          12-24     24-36     36-48     48-60     60-72     72-84     84-96    96-108   108-120\n",
              "(All)  4.113487  0.167616  0.119849  0.027269  0.033389  0.025123  0.004954  0.015093  0.003075"
            ],
            "text/html": [
              "<table border=\"1\" class=\"dataframe\">\n",
              "  <thead>\n",
              "    <tr style=\"text-align: right;\">\n",
              "      <th></th>\n",
              "      <th>12-24</th>\n",
              "      <th>24-36</th>\n",
              "      <th>36-48</th>\n",
              "      <th>48-60</th>\n",
              "      <th>60-72</th>\n",
              "      <th>72-84</th>\n",
              "      <th>84-96</th>\n",
              "      <th>96-108</th>\n",
              "      <th>108-120</th>\n",
              "    </tr>\n",
              "  </thead>\n",
              "  <tbody>\n",
              "    <tr>\n",
              "      <th>(All)</th>\n",
              "      <td>4.1135</td>\n",
              "      <td>0.1676</td>\n",
              "      <td>0.1198</td>\n",
              "      <td>0.0273</td>\n",
              "      <td>0.0334</td>\n",
              "      <td>0.0251</td>\n",
              "      <td>0.0050</td>\n",
              "      <td>0.0151</td>\n",
              "      <td>0.0031</td>\n",
              "    </tr>\n",
              "  </tbody>\n",
              "</table>"
            ]
          },
          "metadata": {},
          "execution_count": 53
        }
      ]
    },
    {
      "cell_type": "code",
      "metadata": {
        "colab": {
          "base_uri": "https://localhost:8080/",
          "height": 81
        },
        "id": "3GUtjvJsLwxq",
        "outputId": "8afc25c8-9093-42c4-8ec2-62513e07d7c3"
      },
      "source": [
        "#Sigma Values\n",
        "dev.sigma_"
      ],
      "execution_count": null,
      "outputs": [
        {
          "output_type": "execute_result",
          "data": {
            "text/plain": [
              "           12-24     24-36     36-48     48-60     60-72     72-84     84-96    96-108   108-120\n",
              "(All)  12.340462  0.474091  0.317091  0.066796  0.074661  0.050246  0.008581  0.021345  0.003075"
            ],
            "text/html": [
              "<table border=\"1\" class=\"dataframe\">\n",
              "  <thead>\n",
              "    <tr style=\"text-align: right;\">\n",
              "      <th></th>\n",
              "      <th>12-24</th>\n",
              "      <th>24-36</th>\n",
              "      <th>36-48</th>\n",
              "      <th>48-60</th>\n",
              "      <th>60-72</th>\n",
              "      <th>72-84</th>\n",
              "      <th>84-96</th>\n",
              "      <th>96-108</th>\n",
              "      <th>108-120</th>\n",
              "    </tr>\n",
              "  </thead>\n",
              "  <tbody>\n",
              "    <tr>\n",
              "      <th>(All)</th>\n",
              "      <td>12.3405</td>\n",
              "      <td>0.4741</td>\n",
              "      <td>0.3171</td>\n",
              "      <td>0.0668</td>\n",
              "      <td>0.0747</td>\n",
              "      <td>0.0502</td>\n",
              "      <td>0.0086</td>\n",
              "      <td>0.0213</td>\n",
              "      <td>0.0031</td>\n",
              "    </tr>\n",
              "  </tbody>\n",
              "</table>"
            ]
          },
          "metadata": {},
          "execution_count": 54
        }
      ]
    },
    {
      "cell_type": "markdown",
      "metadata": {
        "id": "ZiGYoF9AL6iM"
      },
      "source": [
        "# **Using Deterministic Methods with Bootstrap Samples(Bootstrap Chainladder)**"
      ]
    },
    {
      "cell_type": "code",
      "metadata": {
        "id": "xO_F_3tQMxJ-"
      },
      "source": [
        "#Taking new samples because bootstrap samples imposes less data constraints than mack data samples\n",
        "samples = cl.BootstrapODPSample(n_sims=10000).fit(triangle).resampled_triangles_\n",
        "samples = cl.BootstrapODPSample(n_sims=10000).fit_transform(triangle)"
      ],
      "execution_count": null,
      "outputs": []
    },
    {
      "cell_type": "code",
      "metadata": {
        "colab": {
          "base_uri": "https://localhost:8080/"
        },
        "id": "qq5Jl1FUM1j0",
        "outputId": "f4735975-7761-4168-f084-c61cfafb5925"
      },
      "source": [
        "difference = round(1 - cl.Chainladder().fit(samples).ibnr_.sum('origin').mean() / \\\n",
        "                       cl.Chainladder().fit(triangle).ibnr_.sum())\n",
        "print(\"Percentage difference in estimate using original triangle and BootstrapODPSample is \" +str(difference))"
      ],
      "execution_count": null,
      "outputs": [
        {
          "output_type": "stream",
          "name": "stderr",
          "text": [
            "/usr/local/lib/python3.7/dist-packages/chainladder/utils/weighted_regression.py:76: RuntimeWarning: invalid value encountered in sqrt\n",
            "  residual = (y - fitted_value) * xp.sqrt(w)\n",
            "/usr/local/lib/python3.7/dist-packages/chainladder/development/development.py:163: RuntimeWarning: invalid value encountered in sqrt\n",
            "  / xp.swapaxes(xp.sqrt(x ** (2 - exponent))[..., 0:1, :], -1, -2)\n",
            "/usr/local/lib/python3.7/dist-packages/chainladder/development/development.py:173: RuntimeWarning: invalid value encountered in sqrt\n",
            "  std = xp.sqrt((1/num_to_nan(w))*(self.sigma_**2).values)\n",
            "/usr/local/lib/python3.7/dist-packages/chainladder/tails/base.py:120: RuntimeWarning: overflow encountered in exp\n",
            "  sigma_ = xp.exp(time_pd * reg.slope_ + reg.intercept_)\n",
            "/usr/local/lib/python3.7/dist-packages/chainladder/tails/base.py:124: RuntimeWarning: overflow encountered in exp\n",
            "  std_err_ = xp.exp(time_pd * reg.slope_ + reg.intercept_)\n",
            "/usr/local/lib/python3.7/dist-packages/chainladder/tails/base.py:127: RuntimeWarning: invalid value encountered in multiply\n",
            "  sigma_ = sigma_ * 0\n",
            "/usr/local/lib/python3.7/dist-packages/chainladder/tails/base.py:128: RuntimeWarning: invalid value encountered in multiply\n",
            "  std_err_ = std_err_* 0\n"
          ]
        },
        {
          "output_type": "stream",
          "name": "stdout",
          "text": [
            "Percentage difference in estimate using original triangle and BootstrapODPSample is 0\n"
          ]
        }
      ]
    },
    {
      "cell_type": "code",
      "metadata": {
        "colab": {
          "base_uri": "https://localhost:8080/",
          "height": 206
        },
        "id": "tSdLIx7eM4Wg",
        "outputId": "3099ca38-f8f0-4b7d-ead3-5d62010accbe"
      },
      "source": [
        "samples"
      ],
      "execution_count": null,
      "outputs": [
        {
          "output_type": "execute_result",
          "data": {
            "text/plain": [
              "              Triangle Summary\n",
              "Valuation:             1990-12\n",
              "Grain:                    OYDY\n",
              "Shape:      (10000, 1, 10, 10)\n",
              "Index:                 [Total]\n",
              "Columns:              [values]"
            ],
            "text/html": [
              "<table border=\"1\" class=\"dataframe\">\n",
              "  <thead>\n",
              "    <tr style=\"text-align: right;\">\n",
              "      <th></th>\n",
              "      <th>Triangle Summary</th>\n",
              "    </tr>\n",
              "  </thead>\n",
              "  <tbody>\n",
              "    <tr>\n",
              "      <th>Valuation:</th>\n",
              "      <td>1990-12</td>\n",
              "    </tr>\n",
              "    <tr>\n",
              "      <th>Grain:</th>\n",
              "      <td>OYDY</td>\n",
              "    </tr>\n",
              "    <tr>\n",
              "      <th>Shape:</th>\n",
              "      <td>(10000, 1, 10, 10)</td>\n",
              "    </tr>\n",
              "    <tr>\n",
              "      <th>Index:</th>\n",
              "      <td>[Total]</td>\n",
              "    </tr>\n",
              "    <tr>\n",
              "      <th>Columns:</th>\n",
              "      <td>[values]</td>\n",
              "    </tr>\n",
              "  </tbody>\n",
              "</table>"
            ]
          },
          "metadata": {},
          "execution_count": 57
        }
      ]
    },
    {
      "cell_type": "code",
      "metadata": {
        "colab": {
          "base_uri": "https://localhost:8080/"
        },
        "id": "RW5tJXkhM8UW",
        "outputId": "f12b44c2-56ef-4873-f813-479b9f8d8313"
      },
      "source": [
        "pipe = cl.Pipeline([\n",
        "    ('dev', cl.Development(average='simple')),\n",
        "    ('tail', cl.TailConstant(1.05))])\n",
        "pipe.fit(samples)"
      ],
      "execution_count": null,
      "outputs": [
        {
          "output_type": "stream",
          "name": "stderr",
          "text": [
            "/usr/local/lib/python3.7/dist-packages/chainladder/tails/base.py:120: RuntimeWarning: overflow encountered in exp\n",
            "  sigma_ = xp.exp(time_pd * reg.slope_ + reg.intercept_)\n",
            "/usr/local/lib/python3.7/dist-packages/chainladder/tails/base.py:124: RuntimeWarning: overflow encountered in exp\n",
            "  std_err_ = xp.exp(time_pd * reg.slope_ + reg.intercept_)\n"
          ]
        },
        {
          "output_type": "execute_result",
          "data": {
            "text/plain": [
              "Pipeline(steps=[('dev', Development(average='simple')),\n",
              "                ('tail', TailConstant(tail=1.05))])"
            ]
          },
          "metadata": {},
          "execution_count": 58
        }
      ]
    },
    {
      "cell_type": "code",
      "metadata": {
        "colab": {
          "base_uri": "https://localhost:8080/",
          "height": 206
        },
        "id": "6qx0daHBNFie",
        "outputId": "50665ece-893d-4e57-c6a8-d842907f9f4d"
      },
      "source": [
        "pipe.named_steps.dev.cdf_"
      ],
      "execution_count": null,
      "outputs": [
        {
          "output_type": "execute_result",
          "data": {
            "text/plain": [
              "            Triangle Summary\n",
              "Valuation:           2261-12\n",
              "Grain:                  OYDY\n",
              "Shape:      (10000, 1, 1, 9)\n",
              "Index:               [Total]\n",
              "Columns:            [values]"
            ],
            "text/html": [
              "<table border=\"1\" class=\"dataframe\">\n",
              "  <thead>\n",
              "    <tr style=\"text-align: right;\">\n",
              "      <th></th>\n",
              "      <th>Triangle Summary</th>\n",
              "    </tr>\n",
              "  </thead>\n",
              "  <tbody>\n",
              "    <tr>\n",
              "      <th>Valuation:</th>\n",
              "      <td>2261-12</td>\n",
              "    </tr>\n",
              "    <tr>\n",
              "      <th>Grain:</th>\n",
              "      <td>OYDY</td>\n",
              "    </tr>\n",
              "    <tr>\n",
              "      <th>Shape:</th>\n",
              "      <td>(10000, 1, 1, 9)</td>\n",
              "    </tr>\n",
              "    <tr>\n",
              "      <th>Index:</th>\n",
              "      <td>[Total]</td>\n",
              "    </tr>\n",
              "    <tr>\n",
              "      <th>Columns:</th>\n",
              "      <td>[values]</td>\n",
              "    </tr>\n",
              "  </tbody>\n",
              "</table>"
            ]
          },
          "metadata": {},
          "execution_count": 59
        }
      ]
    },
    {
      "cell_type": "code",
      "metadata": {
        "colab": {
          "base_uri": "https://localhost:8080/",
          "height": 316
        },
        "id": "H1S1RZjiNI8r",
        "outputId": "acf1502a-b091-45fe-edae-eb035c9ad366"
      },
      "source": [
        "orig_dev = cl.Development(average='simple').fit(triangle)\n",
        "resampled_ldf = pipe.named_steps.dev.ldf_\n",
        "print(\"12-24 LDF of original Triangle: \" + str(round(orig_dev.ldf_.values[0,0,0,0],4)))\n",
        "pd.Series(resampled_ldf.values[:, 0, 0, 0]).plot(\n",
        "    kind='hist', bins=100,\n",
        "    title='Age 12-14 LDF distribution using Bootstrap')"
      ],
      "execution_count": null,
      "outputs": [
        {
          "output_type": "stream",
          "name": "stdout",
          "text": [
            "12-24 LDF of original Triangle: 8.2061\n"
          ]
        },
        {
          "output_type": "execute_result",
          "data": {
            "text/plain": [
              "<matplotlib.axes._subplots.AxesSubplot at 0x7eff8e94a450>"
            ]
          },
          "metadata": {},
          "execution_count": 60
        },
        {
          "output_type": "display_data",
          "data": {
            "text/plain": [
              "<Figure size 432x288 with 1 Axes>"
            ],
            "image/png": "[encoded data removed]"
          },
          "metadata": {
            "needs_background": "light"
          }
        }
      ]
    },
    {
      "cell_type": "markdown",
      "metadata": {
        "id": "j7L9S1SdNR2_"
      },
      "source": [
        "# **Comparrision Between Bootstrap And Mack Model**"
      ]
    },
    {
      "cell_type": "code",
      "metadata": {
        "colab": {
          "base_uri": "https://localhost:8080/",
          "height": 415
        },
        "id": "BJiEnAnWNKAd",
        "outputId": "f272c33e-106a-444d-8ce4-4c503a837e00"
      },
      "source": [
        "mack_vs_bs = resampled_ldf.std('index').to_frame().append(\n",
        "    orig_dev.std_err_.to_frame()).T\n",
        "mack_vs_bs.columns = ['Mack', 'Bootstrap']\n",
        "mack_vs_bs.plot(kind='bar', title='Mack Regression Framework LDF Std Err\\nvs\\nBootstrap Simulated LDF Std Err')"
      ],
      "execution_count": null,
      "outputs": [
        {
          "output_type": "stream",
          "name": "stderr",
          "text": [
            "/usr/local/lib/python3.7/dist-packages/chainladder/core/pandas.py:57: UserWarning: In an upcoming version of the package, `origin_as_datetime` will be defaulted to `True` in to_frame(...), use `origin_as_datetime=False` to preserve current setting.\n",
            "  warnings.warn(warning)\n"
          ]
        },
        {
          "output_type": "execute_result",
          "data": {
            "text/plain": [
              "<matplotlib.axes._subplots.AxesSubplot at 0x7eff9093ced0>"
            ]
          },
          "metadata": {},
          "execution_count": 61
        },
        {
          "output_type": "display_data",
          "data": {
            "text/plain": [
              "<Figure size 432x288 with 1 Axes>"
            ],
            "image/png": "[encoded data removed]"
          },
          "metadata": {
            "needs_background": "light"
          }
        }
      ]
    },
    {
      "cell_type": "code",
      "metadata": {
        "colab": {
          "base_uri": "https://localhost:8080/"
        },
        "id": "uqCNnXF-NYHQ",
        "outputId": "e984a541-2893-4b4d-800c-fba3aed20348"
      },
      "source": [
        "ibnr = cl.Chainladder().fit(samples).ibnr_.sum('origin')\n",
        "ibnr_99 = ibnr.quantile(q=0.99)\n",
        "print(\"99%-ile of reserve estimate is \" +'{:0,}'.format(round(ibnr_99,0)))"
      ],
      "execution_count": null,
      "outputs": [
        {
          "output_type": "stream",
          "name": "stderr",
          "text": [
            "/usr/local/lib/python3.7/dist-packages/chainladder/utils/weighted_regression.py:76: RuntimeWarning: invalid value encountered in sqrt\n",
            "  residual = (y - fitted_value) * xp.sqrt(w)\n",
            "/usr/local/lib/python3.7/dist-packages/chainladder/development/development.py:163: RuntimeWarning: invalid value encountered in sqrt\n",
            "  / xp.swapaxes(xp.sqrt(x ** (2 - exponent))[..., 0:1, :], -1, -2)\n",
            "/usr/local/lib/python3.7/dist-packages/chainladder/development/development.py:173: RuntimeWarning: invalid value encountered in sqrt\n",
            "  std = xp.sqrt((1/num_to_nan(w))*(self.sigma_**2).values)\n",
            "/usr/local/lib/python3.7/dist-packages/chainladder/tails/base.py:120: RuntimeWarning: overflow encountered in exp\n",
            "  sigma_ = xp.exp(time_pd * reg.slope_ + reg.intercept_)\n",
            "/usr/local/lib/python3.7/dist-packages/chainladder/tails/base.py:124: RuntimeWarning: overflow encountered in exp\n",
            "  std_err_ = xp.exp(time_pd * reg.slope_ + reg.intercept_)\n",
            "/usr/local/lib/python3.7/dist-packages/chainladder/tails/base.py:127: RuntimeWarning: invalid value encountered in multiply\n",
            "  sigma_ = sigma_ * 0\n",
            "/usr/local/lib/python3.7/dist-packages/chainladder/tails/base.py:128: RuntimeWarning: invalid value encountered in multiply\n",
            "  std_err_ = std_err_* 0\n"
          ]
        },
        {
          "output_type": "stream",
          "name": "stdout",
          "text": [
            "99%-ile of reserve estimate is 105,877.0\n"
          ]
        }
      ]
    },
    {
      "cell_type": "code",
      "metadata": {
        "colab": {
          "base_uri": "https://localhost:8080/",
          "height": 281
        },
        "id": "lcSiSYQWNbei",
        "outputId": "31bfe37f-bf1b-4bf8-a0a1-6a6a20eb3d42"
      },
      "source": [
        "ax = ibnr.plot(kind='hist', bins=50, alpha=0.7, color='green').plot()\n",
        "dist.plot(kind='hist', bins=50, alpha=0.4, color='blue', title='Mack vs Bootstrap Variability');"
      ],
      "execution_count": null,
      "outputs": [
        {
          "output_type": "display_data",
          "data": {
            "text/plain": [
              "<Figure size 432x288 with 1 Axes>"
            ],
            "image/png": "[encoded data removed]"
          },
          "metadata": {
            "needs_background": "light"
          }
        }
      ]
    },
    {
      "cell_type": "markdown",
      "metadata": {
        "id": "JF_BrezXNi88"
      },
      "source": [
        "# **Multivariate Chainladder**"
      ]
    },
    {
      "cell_type": "code",
      "metadata": {
        "colab": {
          "base_uri": "https://localhost:8080/",
          "height": 224
        },
        "id": "YIA8If1LNeZo",
        "outputId": "b02142d2-6c51-4fc2-96db-e1941a77d1af"
      },
      "source": [
        "clrd = cl.load_sample(\"clrd\").groupby(\"LOB\").sum()[\"CumPaidLoss\"]\n",
        "print(\"Fitting to \" + str(len(clrd.index)) + \" industries simultaneously.\")\n",
        "cl.Development().fit_transform(clrd).cdf_"
      ],
      "execution_count": null,
      "outputs": [
        {
          "output_type": "stream",
          "name": "stdout",
          "text": [
            "Fitting to 6 industries simultaneously.\n"
          ]
        },
        {
          "output_type": "execute_result",
          "data": {
            "text/plain": [
              "           Triangle Summary\n",
              "Valuation:          2261-12\n",
              "Grain:                 OYDY\n",
              "Shape:         (6, 1, 1, 9)\n",
              "Index:                [LOB]\n",
              "Columns:      [CumPaidLoss]"
            ],
            "text/html": [
              "<table border=\"1\" class=\"dataframe\">\n",
              "  <thead>\n",
              "    <tr style=\"text-align: right;\">\n",
              "      <th></th>\n",
              "      <th>Triangle Summary</th>\n",
              "    </tr>\n",
              "  </thead>\n",
              "  <tbody>\n",
              "    <tr>\n",
              "      <th>Valuation:</th>\n",
              "      <td>2261-12</td>\n",
              "    </tr>\n",
              "    <tr>\n",
              "      <th>Grain:</th>\n",
              "      <td>OYDY</td>\n",
              "    </tr>\n",
              "    <tr>\n",
              "      <th>Shape:</th>\n",
              "      <td>(6, 1, 1, 9)</td>\n",
              "    </tr>\n",
              "    <tr>\n",
              "      <th>Index:</th>\n",
              "      <td>[LOB]</td>\n",
              "    </tr>\n",
              "    <tr>\n",
              "      <th>Columns:</th>\n",
              "      <td>[CumPaidLoss]</td>\n",
              "    </tr>\n",
              "  </tbody>\n",
              "</table>"
            ]
          },
          "metadata": {},
          "execution_count": 64
        }
      ]
    },
    {
      "cell_type": "code",
      "metadata": {
        "colab": {
          "base_uri": "https://localhost:8080/"
        },
        "id": "LNOXbp5lNo0m",
        "outputId": "59b2d7a0-12e5-41e0-a3cd-a01e1308f9a8"
      },
      "source": [
        "print(cl.Development(average=\"simple\").fit(clrd.loc[\"wkcomp\"]))\n",
        "print(cl.Development(n_periods=4).fit(clrd.loc[\"ppauto\"]))\n",
        "print(cl.Development(average=\"regression\", n_periods=6).fit(clrd.loc[\"comauto\"]))"
      ],
      "execution_count": null,
      "outputs": [
        {
          "output_type": "stream",
          "name": "stdout",
          "text": [
            "Development(average='simple')\n",
            "Development(n_periods=4)\n",
            "Development(average='regression', n_periods=6)\n"
          ]
        }
      ]
    }
  ]
}